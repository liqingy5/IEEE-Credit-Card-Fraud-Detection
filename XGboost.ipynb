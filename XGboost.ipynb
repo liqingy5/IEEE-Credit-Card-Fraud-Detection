{
 "cells": [
  {
   "cell_type": "code",
   "execution_count": 1,
   "id": "279593de",
   "metadata": {},
   "outputs": [],
   "source": [
    "from sklearn.model_selection import train_test_split\n",
    "import xgboost as xgb\n",
    "import pandas as pd\n",
    "import metrics\n",
    "import pickle\n",
    "\n",
    "import Evaluation as eva\n",
    "import utils\n",
    "\n",
    "__filename__ = 'XGboost.model'"
   ]
  },
  {
   "cell_type": "markdown",
   "id": "e06215c2",
   "metadata": {},
   "source": [
    "### load data"
   ]
  },
  {
   "cell_type": "code",
   "execution_count": 4,
   "id": "dc674e75",
   "metadata": {},
   "outputs": [],
   "source": [
    "data = pd.read_csv(f'{utils._data_pth_}/processed/train_joined.csv', index_col=0)\n",
    "y, X = data['isFraud'], data.drop(columns=['isFraud'])\n",
    "X_train, X_test, y_train, y_test = train_test_split(X, y, test_size=0.33, random_state=utils._random_seed_)"
   ]
  },
  {
   "cell_type": "markdown",
   "id": "9c9d279d",
   "metadata": {},
   "source": [
    "### configure"
   ]
  },
  {
   "cell_type": "code",
   "execution_count": 3,
   "id": "a5abadc8",
   "metadata": {},
   "outputs": [],
   "source": [
    "xgb.set_config(verbosity=2)"
   ]
  },
  {
   "cell_type": "markdown",
   "id": "77703ce8",
   "metadata": {},
   "source": [
    "### train\n"
   ]
  },
  {
   "cell_type": "code",
   "execution_count": 4,
   "id": "faeda819",
   "metadata": {},
   "outputs": [
    {
     "name": "stdout",
     "output_type": "stream",
     "text": [
      "[03:36:49] INFO: /Users/runner/miniforge3/conda-bld/xgboost-split_1645117948562/work/src/tree/updater_prune.cc:101: tree pruning end, 4018 extra nodes, 0 pruned nodes, max_depth=38\n",
      "[03:36:49] INFO: /Users/runner/miniforge3/conda-bld/xgboost-split_1645117948562/work/src/tree/updater_prune.cc:101: tree pruning end, 4018 extra nodes, 0 pruned nodes, max_depth=38\n",
      "[03:36:49] INFO: /Users/runner/miniforge3/conda-bld/xgboost-split_1645117948562/work/src/tree/updater_prune.cc:101: tree pruning end, 4018 extra nodes, 0 pruned nodes, max_depth=38\n",
      "[03:36:49] INFO: /Users/runner/miniforge3/conda-bld/xgboost-split_1645117948562/work/src/tree/updater_prune.cc:101: tree pruning end, 4018 extra nodes, 0 pruned nodes, max_depth=38\n",
      "[03:36:49] INFO: /Users/runner/miniforge3/conda-bld/xgboost-split_1645117948562/work/src/tree/updater_prune.cc:101: tree pruning end, 4018 extra nodes, 0 pruned nodes, max_depth=38\n",
      "[03:37:18] INFO: /Users/runner/miniforge3/conda-bld/xgboost-split_1645117948562/work/src/tree/updater_prune.cc:101: tree pruning end, 4444 extra nodes, 0 pruned nodes, max_depth=42\n",
      "[03:37:18] INFO: /Users/runner/miniforge3/conda-bld/xgboost-split_1645117948562/work/src/tree/updater_prune.cc:101: tree pruning end, 4444 extra nodes, 0 pruned nodes, max_depth=42\n",
      "[03:37:18] INFO: /Users/runner/miniforge3/conda-bld/xgboost-split_1645117948562/work/src/tree/updater_prune.cc:101: tree pruning end, 4444 extra nodes, 0 pruned nodes, max_depth=42\n",
      "[03:37:18] INFO: /Users/runner/miniforge3/conda-bld/xgboost-split_1645117948562/work/src/tree/updater_prune.cc:101: tree pruning end, 4444 extra nodes, 0 pruned nodes, max_depth=42\n",
      "[03:37:18] INFO: /Users/runner/miniforge3/conda-bld/xgboost-split_1645117948562/work/src/tree/updater_prune.cc:101: tree pruning end, 4444 extra nodes, 0 pruned nodes, max_depth=42\n",
      "[03:37:50] INFO: /Users/runner/miniforge3/conda-bld/xgboost-split_1645117948562/work/src/tree/updater_prune.cc:101: tree pruning end, 5368 extra nodes, 0 pruned nodes, max_depth=50\n",
      "[03:37:50] INFO: /Users/runner/miniforge3/conda-bld/xgboost-split_1645117948562/work/src/tree/updater_prune.cc:101: tree pruning end, 5368 extra nodes, 0 pruned nodes, max_depth=50\n",
      "[03:37:50] INFO: /Users/runner/miniforge3/conda-bld/xgboost-split_1645117948562/work/src/tree/updater_prune.cc:101: tree pruning end, 5368 extra nodes, 0 pruned nodes, max_depth=50\n",
      "[03:37:50] INFO: /Users/runner/miniforge3/conda-bld/xgboost-split_1645117948562/work/src/tree/updater_prune.cc:101: tree pruning end, 5368 extra nodes, 0 pruned nodes, max_depth=50\n",
      "[03:37:50] INFO: /Users/runner/miniforge3/conda-bld/xgboost-split_1645117948562/work/src/tree/updater_prune.cc:101: tree pruning end, 5368 extra nodes, 0 pruned nodes, max_depth=50\n",
      "[03:38:23] INFO: /Users/runner/miniforge3/conda-bld/xgboost-split_1645117948562/work/src/tree/updater_prune.cc:101: tree pruning end, 5932 extra nodes, 0 pruned nodes, max_depth=43\n",
      "[03:38:23] INFO: /Users/runner/miniforge3/conda-bld/xgboost-split_1645117948562/work/src/tree/updater_prune.cc:101: tree pruning end, 5932 extra nodes, 0 pruned nodes, max_depth=43\n",
      "[03:38:23] INFO: /Users/runner/miniforge3/conda-bld/xgboost-split_1645117948562/work/src/tree/updater_prune.cc:101: tree pruning end, 5932 extra nodes, 0 pruned nodes, max_depth=43\n",
      "[03:38:23] INFO: /Users/runner/miniforge3/conda-bld/xgboost-split_1645117948562/work/src/tree/updater_prune.cc:101: tree pruning end, 5932 extra nodes, 0 pruned nodes, max_depth=43\n",
      "[03:38:23] INFO: /Users/runner/miniforge3/conda-bld/xgboost-split_1645117948562/work/src/tree/updater_prune.cc:101: tree pruning end, 5932 extra nodes, 0 pruned nodes, max_depth=43\n",
      "[03:38:56] INFO: /Users/runner/miniforge3/conda-bld/xgboost-split_1645117948562/work/src/tree/updater_prune.cc:101: tree pruning end, 6316 extra nodes, 0 pruned nodes, max_depth=48\n",
      "[03:38:56] INFO: /Users/runner/miniforge3/conda-bld/xgboost-split_1645117948562/work/src/tree/updater_prune.cc:101: tree pruning end, 6316 extra nodes, 0 pruned nodes, max_depth=48\n",
      "[03:38:56] INFO: /Users/runner/miniforge3/conda-bld/xgboost-split_1645117948562/work/src/tree/updater_prune.cc:101: tree pruning end, 6316 extra nodes, 0 pruned nodes, max_depth=48\n",
      "[03:38:56] INFO: /Users/runner/miniforge3/conda-bld/xgboost-split_1645117948562/work/src/tree/updater_prune.cc:101: tree pruning end, 6316 extra nodes, 0 pruned nodes, max_depth=48\n",
      "[03:38:56] INFO: /Users/runner/miniforge3/conda-bld/xgboost-split_1645117948562/work/src/tree/updater_prune.cc:101: tree pruning end, 6316 extra nodes, 0 pruned nodes, max_depth=48\n",
      "[03:39:29] INFO: /Users/runner/miniforge3/conda-bld/xgboost-split_1645117948562/work/src/tree/updater_prune.cc:101: tree pruning end, 6768 extra nodes, 0 pruned nodes, max_depth=41\n",
      "[03:39:29] INFO: /Users/runner/miniforge3/conda-bld/xgboost-split_1645117948562/work/src/tree/updater_prune.cc:101: tree pruning end, 6768 extra nodes, 0 pruned nodes, max_depth=41\n",
      "[03:39:29] INFO: /Users/runner/miniforge3/conda-bld/xgboost-split_1645117948562/work/src/tree/updater_prune.cc:101: tree pruning end, 6768 extra nodes, 0 pruned nodes, max_depth=41\n",
      "[03:39:29] INFO: /Users/runner/miniforge3/conda-bld/xgboost-split_1645117948562/work/src/tree/updater_prune.cc:101: tree pruning end, 6768 extra nodes, 0 pruned nodes, max_depth=41\n",
      "[03:39:29] INFO: /Users/runner/miniforge3/conda-bld/xgboost-split_1645117948562/work/src/tree/updater_prune.cc:101: tree pruning end, 6768 extra nodes, 0 pruned nodes, max_depth=41\n",
      "[03:40:02] INFO: /Users/runner/miniforge3/conda-bld/xgboost-split_1645117948562/work/src/tree/updater_prune.cc:101: tree pruning end, 7020 extra nodes, 0 pruned nodes, max_depth=44\n",
      "[03:40:02] INFO: /Users/runner/miniforge3/conda-bld/xgboost-split_1645117948562/work/src/tree/updater_prune.cc:101: tree pruning end, 7020 extra nodes, 0 pruned nodes, max_depth=44\n",
      "[03:40:02] INFO: /Users/runner/miniforge3/conda-bld/xgboost-split_1645117948562/work/src/tree/updater_prune.cc:101: tree pruning end, 7020 extra nodes, 0 pruned nodes, max_depth=44\n",
      "[03:40:02] INFO: /Users/runner/miniforge3/conda-bld/xgboost-split_1645117948562/work/src/tree/updater_prune.cc:101: tree pruning end, 7020 extra nodes, 0 pruned nodes, max_depth=44\n",
      "[03:40:02] INFO: /Users/runner/miniforge3/conda-bld/xgboost-split_1645117948562/work/src/tree/updater_prune.cc:101: tree pruning end, 7020 extra nodes, 0 pruned nodes, max_depth=44\n",
      "[03:40:36] INFO: /Users/runner/miniforge3/conda-bld/xgboost-split_1645117948562/work/src/tree/updater_prune.cc:101: tree pruning end, 6746 extra nodes, 0 pruned nodes, max_depth=45\n",
      "[03:40:36] INFO: /Users/runner/miniforge3/conda-bld/xgboost-split_1645117948562/work/src/tree/updater_prune.cc:101: tree pruning end, 6746 extra nodes, 0 pruned nodes, max_depth=45\n",
      "[03:40:36] INFO: /Users/runner/miniforge3/conda-bld/xgboost-split_1645117948562/work/src/tree/updater_prune.cc:101: tree pruning end, 6746 extra nodes, 0 pruned nodes, max_depth=45\n",
      "[03:40:36] INFO: /Users/runner/miniforge3/conda-bld/xgboost-split_1645117948562/work/src/tree/updater_prune.cc:101: tree pruning end, 6746 extra nodes, 0 pruned nodes, max_depth=45\n",
      "[03:40:36] INFO: /Users/runner/miniforge3/conda-bld/xgboost-split_1645117948562/work/src/tree/updater_prune.cc:101: tree pruning end, 6746 extra nodes, 0 pruned nodes, max_depth=45\n",
      "[03:41:06] INFO: /Users/runner/miniforge3/conda-bld/xgboost-split_1645117948562/work/src/tree/updater_prune.cc:101: tree pruning end, 6752 extra nodes, 0 pruned nodes, max_depth=49\n",
      "[03:41:06] INFO: /Users/runner/miniforge3/conda-bld/xgboost-split_1645117948562/work/src/tree/updater_prune.cc:101: tree pruning end, 6752 extra nodes, 0 pruned nodes, max_depth=49\n",
      "[03:41:06] INFO: /Users/runner/miniforge3/conda-bld/xgboost-split_1645117948562/work/src/tree/updater_prune.cc:101: tree pruning end, 6752 extra nodes, 0 pruned nodes, max_depth=49\n",
      "[03:41:06] INFO: /Users/runner/miniforge3/conda-bld/xgboost-split_1645117948562/work/src/tree/updater_prune.cc:101: tree pruning end, 6752 extra nodes, 0 pruned nodes, max_depth=49\n",
      "[03:41:06] INFO: /Users/runner/miniforge3/conda-bld/xgboost-split_1645117948562/work/src/tree/updater_prune.cc:101: tree pruning end, 6752 extra nodes, 0 pruned nodes, max_depth=49\n",
      "[03:41:33] INFO: /Users/runner/miniforge3/conda-bld/xgboost-split_1645117948562/work/src/tree/updater_prune.cc:101: tree pruning end, 6476 extra nodes, 0 pruned nodes, max_depth=37\n",
      "[03:41:33] INFO: /Users/runner/miniforge3/conda-bld/xgboost-split_1645117948562/work/src/tree/updater_prune.cc:101: tree pruning end, 6476 extra nodes, 0 pruned nodes, max_depth=37\n",
      "[03:41:33] INFO: /Users/runner/miniforge3/conda-bld/xgboost-split_1645117948562/work/src/tree/updater_prune.cc:101: tree pruning end, 6476 extra nodes, 0 pruned nodes, max_depth=37\n",
      "[03:41:33] INFO: /Users/runner/miniforge3/conda-bld/xgboost-split_1645117948562/work/src/tree/updater_prune.cc:101: tree pruning end, 6476 extra nodes, 0 pruned nodes, max_depth=37\n",
      "[03:41:33] INFO: /Users/runner/miniforge3/conda-bld/xgboost-split_1645117948562/work/src/tree/updater_prune.cc:101: tree pruning end, 6476 extra nodes, 0 pruned nodes, max_depth=37\n"
     ]
    }
   ],
   "source": [
    "dtrain = xgb.DMatrix(data=X_train, label=y_train)\n",
    "dtest = xgb.DMatrix(data=X_test, label=y_test)\n",
    "booster = xgb.train({\n",
    "    'objective': 'binary:logistic', \n",
    "    'eval_metric': ['auc', 'ams@0'],\n",
    "    'max_depth': 50,\n",
    "    'num_parallel_tree': 5,\n",
    "}, dtrain=dtrain)"
   ]
  },
  {
   "cell_type": "markdown",
   "id": "80f67116",
   "metadata": {},
   "source": [
    "### test"
   ]
  },
  {
   "cell_type": "code",
   "execution_count": 2,
   "id": "abe8d5a3",
   "metadata": {},
   "outputs": [
    {
     "ename": "NameError",
     "evalue": "name 'booster' is not defined",
     "output_type": "error",
     "traceback": [
      "\u001b[0;31m---------------------------------------------------------------------------\u001b[0m",
      "\u001b[0;31mNameError\u001b[0m                                 Traceback (most recent call last)",
      "\u001b[0;32m/var/folders/pg/6szkk6cn1px39kh3c02fy5y40000gn/T/ipykernel_74672/4150916404.py\u001b[0m in \u001b[0;36m<module>\u001b[0;34m\u001b[0m\n\u001b[1;32m     29\u001b[0m \u001b[0;34m\u001b[0m\u001b[0m\n\u001b[1;32m     30\u001b[0m \u001b[0;34m\u001b[0m\u001b[0m\n\u001b[0;32m---> 31\u001b[0;31m \u001b[0my_pred_probs\u001b[0m \u001b[0;34m=\u001b[0m \u001b[0mbooster\u001b[0m\u001b[0;34m.\u001b[0m\u001b[0mpredict\u001b[0m\u001b[0;34m(\u001b[0m\u001b[0mdtest\u001b[0m\u001b[0;34m)\u001b[0m\u001b[0;34m\u001b[0m\u001b[0;34m\u001b[0m\u001b[0m\n\u001b[0m\u001b[1;32m     32\u001b[0m \u001b[0mroc_pr_curve\u001b[0m\u001b[0;34m(\u001b[0m\u001b[0my_test\u001b[0m\u001b[0;34m,\u001b[0m \u001b[0my_pred_probs\u001b[0m\u001b[0;34m)\u001b[0m\u001b[0;34m\u001b[0m\u001b[0;34m\u001b[0m\u001b[0m\n\u001b[1;32m     33\u001b[0m \u001b[0my_pred_probs\u001b[0m\u001b[0;34m[\u001b[0m\u001b[0my_pred_probs\u001b[0m \u001b[0;34m>=\u001b[0m \u001b[0;36m0.5\u001b[0m\u001b[0;34m]\u001b[0m \u001b[0;34m=\u001b[0m \u001b[0;36m1\u001b[0m\u001b[0;34m\u001b[0m\u001b[0;34m\u001b[0m\u001b[0m\n",
      "\u001b[0;31mNameError\u001b[0m: name 'booster' is not defined"
     ]
    }
   ],
   "source": [
    "import matplotlib.pyplot as plt\n",
    "\n",
    "from sklearn.metrics import classification_report, roc_auc_score, roc_curve, confusion_matrix\n",
    "from sklearn.metrics import precision_recall_curve\n",
    "\n",
    "### Roc curve and PR curve\n",
    "def roc_pr_curve(y_test, probs_predict):\n",
    "    # Draw the ROC curve\n",
    "    plt.figure(1)\n",
    "    # ROC curve components\n",
    "    fpr, tpr, thresholdsROC = roc_curve(y_test, probs_predict)\n",
    "    #plot\n",
    "    plt.plot(fpr,tpr)\n",
    "    plt.title(\"ROC curve\")\n",
    "    plt.xlabel(\"1-SPEC\")\n",
    "    plt.ylabel(\"SENS\")\n",
    "    plt.show\n",
    "    \n",
    "    # Draw the PR curve\n",
    "    plt.figure(2)\n",
    "    # Components of the Precision recall curvey\n",
    "    precision, recall, thresholdsPR = precision_recall_curve(y_test, probs_predict)\n",
    "    # plot\n",
    "    plt.plot(recall,precision)\n",
    "    plt.title(\"PR curve\")\n",
    "    plt.xlabel(\"SENS (Recall)\")\n",
    "    plt.ylabel(\"PPV (Precision)\")\n",
    "    plt.show\n",
    "    \n",
    "\n",
    "y_pred_probs = booster.predict(dtest)\n",
    "roc_pr_curve(y_test, y_pred_probs)\n",
    "y_pred_probs[y_pred_probs >= 0.5] = 1\n",
    "y_pred_probs[y_pred_probs < 0.5] = 0\n",
    "metrics.conf_matrix(y_test, y_pred_probs)\n"
   ]
  },
  {
   "cell_type": "code",
   "execution_count": 6,
   "id": "afbfc1c3",
   "metadata": {},
   "outputs": [
    {
     "data": {
      "text/plain": [
       "numpy.ndarray"
      ]
     },
     "execution_count": 6,
     "metadata": {},
     "output_type": "execute_result"
    }
   ],
   "source": [
    "type(y_pred_probs)"
   ]
  },
  {
   "cell_type": "markdown",
   "id": "15739e41",
   "metadata": {},
   "source": [
    "## Export model"
   ]
  },
  {
   "cell_type": "code",
   "execution_count": 9,
   "id": "089e9a16",
   "metadata": {},
   "outputs": [],
   "source": [
    "# save the model to disk\n",
    "pickle.dump(booster, open(f'{utils._data_pth_}/models/{__filename__}', 'wb'))"
   ]
  },
  {
   "cell_type": "markdown",
   "id": "e67e9ef9",
   "metadata": {},
   "source": [
    "## Evaluation"
   ]
  },
  {
   "cell_type": "code",
   "execution_count": 10,
   "id": "742f8a15",
   "metadata": {},
   "outputs": [
    {
     "name": "stdout",
     "output_type": "stream",
     "text": [
      "Test data\n",
      "[[3666, 187776], [325, 3112]]\n",
      "Misclassification error =  3437\n",
      "SENS(recall)  =  0.5408675125405724\n",
      "SPEC   =  0.9982722048261307\n",
      "PPV(Precision)   =  0.9185667752442996\n",
      "NPV   =  0.9836972465529525\n",
      "F1-SCORE =  0.680843160924877\n"
     ]
    },
    {
     "data": {
      "image/png": "[encoded data removed]",
      "text/plain": [
       "<Figure size 432x288 with 1 Axes>"
      ]
     },
     "metadata": {
      "needs_background": "light"
     },
     "output_type": "display_data"
    },
    {
     "data": {
      "image/png": "[encoded data removed]",
      "text/plain": [
       "<Figure size 432x288 with 1 Axes>"
      ]
     },
     "metadata": {
      "needs_background": "light"
     },
     "output_type": "display_data"
    }
   ],
   "source": [
    "eva.evaluate(\"XGboost\")"
   ]
  },
  {
   "cell_type": "markdown",
   "id": "aa081884",
   "metadata": {},
   "source": [
    "## Grid Search"
   ]
  },
  {
   "cell_type": "code",
   "execution_count": 12,
   "id": "d1ba4878",
   "metadata": {},
   "outputs": [
    {
     "ename": "KeyboardInterrupt",
     "evalue": "",
     "output_type": "error",
     "traceback": [
      "\u001b[0;31m---------------------------------------------------------------------------\u001b[0m",
      "\u001b[0;31mKeyboardInterrupt\u001b[0m                         Traceback (most recent call last)",
      "\u001b[0;32m/var/folders/pg/6szkk6cn1px39kh3c02fy5y40000gn/T/ipykernel_74672/3841889676.py\u001b[0m in \u001b[0;36m<module>\u001b[0;34m\u001b[0m\n\u001b[1;32m     26\u001b[0m             \u001b[0;34m'max_depth'\u001b[0m\u001b[0;34m:\u001b[0m \u001b[0mtree_depth\u001b[0m\u001b[0;34m,\u001b[0m\u001b[0;34m\u001b[0m\u001b[0;34m\u001b[0m\u001b[0m\n\u001b[1;32m     27\u001b[0m             \u001b[0;34m'num_parallel_tree'\u001b[0m\u001b[0;34m:\u001b[0m \u001b[0mnum_tree\u001b[0m\u001b[0;34m,\u001b[0m\u001b[0;34m\u001b[0m\u001b[0;34m\u001b[0m\u001b[0m\n\u001b[0;32m---> 28\u001b[0;31m         }, dtrain=dtrain)\n\u001b[0m\u001b[1;32m     29\u001b[0m         \u001b[0my_pred_probs\u001b[0m \u001b[0;34m=\u001b[0m \u001b[0mbooster\u001b[0m\u001b[0;34m.\u001b[0m\u001b[0mpredict\u001b[0m\u001b[0;34m(\u001b[0m\u001b[0mdtest\u001b[0m\u001b[0;34m)\u001b[0m\u001b[0;34m\u001b[0m\u001b[0;34m\u001b[0m\u001b[0m\n\u001b[1;32m     30\u001b[0m         \u001b[0my_pred_probs\u001b[0m\u001b[0;34m[\u001b[0m\u001b[0my_pred_probs\u001b[0m \u001b[0;34m>=\u001b[0m \u001b[0;36m0.5\u001b[0m\u001b[0;34m]\u001b[0m \u001b[0;34m=\u001b[0m \u001b[0;36m1\u001b[0m\u001b[0;34m\u001b[0m\u001b[0;34m\u001b[0m\u001b[0m\n",
      "\u001b[0;32m~/opt/anaconda3/envs/bionlp/lib/python3.7/site-packages/xgboost/training.py\u001b[0m in \u001b[0;36mtrain\u001b[0;34m(params, dtrain, num_boost_round, evals, obj, feval, maximize, early_stopping_rounds, evals_result, verbose_eval, xgb_model, callbacks)\u001b[0m\n\u001b[1;32m    194\u001b[0m                           \u001b[0mevals_result\u001b[0m\u001b[0;34m=\u001b[0m\u001b[0mevals_result\u001b[0m\u001b[0;34m,\u001b[0m\u001b[0;34m\u001b[0m\u001b[0;34m\u001b[0m\u001b[0m\n\u001b[1;32m    195\u001b[0m                           \u001b[0mmaximize\u001b[0m\u001b[0;34m=\u001b[0m\u001b[0mmaximize\u001b[0m\u001b[0;34m,\u001b[0m\u001b[0;34m\u001b[0m\u001b[0;34m\u001b[0m\u001b[0m\n\u001b[0;32m--> 196\u001b[0;31m                           early_stopping_rounds=early_stopping_rounds)\n\u001b[0m\u001b[1;32m    197\u001b[0m     \u001b[0;32mreturn\u001b[0m \u001b[0mbst\u001b[0m\u001b[0;34m\u001b[0m\u001b[0;34m\u001b[0m\u001b[0m\n\u001b[1;32m    198\u001b[0m \u001b[0;34m\u001b[0m\u001b[0m\n",
      "\u001b[0;32m~/opt/anaconda3/envs/bionlp/lib/python3.7/site-packages/xgboost/training.py\u001b[0m in \u001b[0;36m_train_internal\u001b[0;34m(params, dtrain, num_boost_round, evals, obj, feval, xgb_model, callbacks, evals_result, maximize, verbose_eval, early_stopping_rounds)\u001b[0m\n\u001b[1;32m     79\u001b[0m         \u001b[0;32mif\u001b[0m \u001b[0mcallbacks\u001b[0m\u001b[0;34m.\u001b[0m\u001b[0mbefore_iteration\u001b[0m\u001b[0;34m(\u001b[0m\u001b[0mbst\u001b[0m\u001b[0;34m,\u001b[0m \u001b[0mi\u001b[0m\u001b[0;34m,\u001b[0m \u001b[0mdtrain\u001b[0m\u001b[0;34m,\u001b[0m \u001b[0mevals\u001b[0m\u001b[0;34m)\u001b[0m\u001b[0;34m:\u001b[0m\u001b[0;34m\u001b[0m\u001b[0;34m\u001b[0m\u001b[0m\n\u001b[1;32m     80\u001b[0m             \u001b[0;32mbreak\u001b[0m\u001b[0;34m\u001b[0m\u001b[0;34m\u001b[0m\u001b[0m\n\u001b[0;32m---> 81\u001b[0;31m         \u001b[0mbst\u001b[0m\u001b[0;34m.\u001b[0m\u001b[0mupdate\u001b[0m\u001b[0;34m(\u001b[0m\u001b[0mdtrain\u001b[0m\u001b[0;34m,\u001b[0m \u001b[0mi\u001b[0m\u001b[0;34m,\u001b[0m \u001b[0mobj\u001b[0m\u001b[0;34m)\u001b[0m\u001b[0;34m\u001b[0m\u001b[0;34m\u001b[0m\u001b[0m\n\u001b[0m\u001b[1;32m     82\u001b[0m         \u001b[0;32mif\u001b[0m \u001b[0mcallbacks\u001b[0m\u001b[0;34m.\u001b[0m\u001b[0mafter_iteration\u001b[0m\u001b[0;34m(\u001b[0m\u001b[0mbst\u001b[0m\u001b[0;34m,\u001b[0m \u001b[0mi\u001b[0m\u001b[0;34m,\u001b[0m \u001b[0mdtrain\u001b[0m\u001b[0;34m,\u001b[0m \u001b[0mevals\u001b[0m\u001b[0;34m)\u001b[0m\u001b[0;34m:\u001b[0m\u001b[0;34m\u001b[0m\u001b[0;34m\u001b[0m\u001b[0m\n\u001b[1;32m     83\u001b[0m             \u001b[0;32mbreak\u001b[0m\u001b[0;34m\u001b[0m\u001b[0;34m\u001b[0m\u001b[0m\n",
      "\u001b[0;32m~/opt/anaconda3/envs/bionlp/lib/python3.7/site-packages/xgboost/core.py\u001b[0m in \u001b[0;36mupdate\u001b[0;34m(self, dtrain, iteration, fobj)\u001b[0m\n\u001b[1;32m   1680\u001b[0m             _check_call(_LIB.XGBoosterUpdateOneIter(self.handle,\n\u001b[1;32m   1681\u001b[0m                                                     \u001b[0mctypes\u001b[0m\u001b[0;34m.\u001b[0m\u001b[0mc_int\u001b[0m\u001b[0;34m(\u001b[0m\u001b[0miteration\u001b[0m\u001b[0;34m)\u001b[0m\u001b[0;34m,\u001b[0m\u001b[0;34m\u001b[0m\u001b[0;34m\u001b[0m\u001b[0m\n\u001b[0;32m-> 1682\u001b[0;31m                                                     dtrain.handle))\n\u001b[0m\u001b[1;32m   1683\u001b[0m         \u001b[0;32melse\u001b[0m\u001b[0;34m:\u001b[0m\u001b[0;34m\u001b[0m\u001b[0;34m\u001b[0m\u001b[0m\n\u001b[1;32m   1684\u001b[0m             \u001b[0mpred\u001b[0m \u001b[0;34m=\u001b[0m \u001b[0mself\u001b[0m\u001b[0;34m.\u001b[0m\u001b[0mpredict\u001b[0m\u001b[0;34m(\u001b[0m\u001b[0mdtrain\u001b[0m\u001b[0;34m,\u001b[0m \u001b[0moutput_margin\u001b[0m\u001b[0;34m=\u001b[0m\u001b[0;32mTrue\u001b[0m\u001b[0;34m,\u001b[0m \u001b[0mtraining\u001b[0m\u001b[0;34m=\u001b[0m\u001b[0;32mTrue\u001b[0m\u001b[0;34m)\u001b[0m\u001b[0;34m\u001b[0m\u001b[0;34m\u001b[0m\u001b[0m\n",
      "\u001b[0;31mKeyboardInterrupt\u001b[0m: "
     ]
    }
   ],
   "source": [
    "import gc\n",
    "import csv\n",
    "gc.enable()\n",
    "dtest = xgb.DMatrix(data=X_test, label=y_test)\n",
    "xgb.set_config(verbosity=1)\n",
    "\n",
    "fieldnames = ['max_depth', 'num_parallel_tree', 'TN', 'FP', 'FN', 'TP']\n",
    "with open('grid_search_result.csv', 'a') as csvfile:\n",
    "    writer = csv.DictWriter(csvfile, fieldnames=fieldnames)\n",
    "    writer.writeheader()\n",
    "\n",
    "for tree_depth in range(3,8):\n",
    "    for num_tree in range(1,50):\n",
    "#         temptrain = xgb.DMatrix(data=X_train, label=y_train)\n",
    "#         if temptrain!=dtrain:\n",
    "#             print(\"something\")\n",
    "#             break\n",
    "#         else:\n",
    "#             print(\"Good\")\n",
    "        if num_tree % 9 != 0:\n",
    "            continue\n",
    "        dtrain = xgb.DMatrix(data=X_train, label=y_train)\n",
    "        booster = xgb.train({\n",
    "            'objective': 'binary:logistic', \n",
    "            'eval_metric': ['auc', 'ams@0'],\n",
    "            'max_depth': tree_depth,\n",
    "            'num_parallel_tree': num_tree,\n",
    "        }, dtrain=dtrain)\n",
    "        y_pred_probs = booster.predict(dtest)\n",
    "        y_pred_probs[y_pred_probs >= 0.5] = 1\n",
    "        y_pred_probs[y_pred_probs < 0.5] = 0\n",
    "        tn, fp, fn, tp = confusion_matrix(y_test, y_pred_probs).ravel()\n",
    "\n",
    "        with open('grid_search_result.csv', 'a') as csvfile:\n",
    "            writer = csv.DictWriter(csvfile, fieldnames=fieldnames)\n",
    "            writer.writerow({fieldnames[0]: tree_depth,\n",
    "                             fieldnames[1]: num_tree,\n",
    "                             fieldnames[2]: tn,\n",
    "                             fieldnames[3]: fp,\n",
    "                             fieldnames[4]: fn,\n",
    "                             fieldnames[5]: tp})\n",
    "\n",
    "        del booster\n",
    "        del dtrain\n",
    "        \n"
   ]
  },
  {
   "cell_type": "code",
   "execution_count": 19,
   "id": "7b5dd7ac",
   "metadata": {},
   "outputs": [
    {
     "data": {
      "text/plain": [
       "xgboost.core.DMatrix"
      ]
     },
     "execution_count": 19,
     "metadata": {},
     "output_type": "execute_result"
    }
   ],
   "source": [
    "type(temptrain)"
   ]
  },
  {
   "cell_type": "code",
   "execution_count": 25,
   "id": "201496f5",
   "metadata": {},
   "outputs": [
    {
     "data": {
      "text/plain": [
       "array([], dtype=float32)"
      ]
     },
     "execution_count": 25,
     "metadata": {},
     "output_type": "execute_result"
    }
   ],
   "source": [
    "temptrain.get_base_margin()"
   ]
  },
  {
   "cell_type": "code",
   "execution_count": null,
   "id": "ff60789b",
   "metadata": {},
   "outputs": [],
   "source": []
  }
 ],
 "metadata": {
  "kernelspec": {
   "display_name": "python bionlp",
   "language": "python",
   "name": "bionlp"
  },
  "language_info": {
   "codemirror_mode": {
    "name": "ipython",
    "version": 3
   },
   "file_extension": ".py",
   "mimetype": "text/x-python",
   "name": "python",
   "nbconvert_exporter": "python",
   "pygments_lexer": "ipython3",
   "version": "3.7.11"
  },
  "varInspector": {
   "cols": {
    "lenName": 16,
    "lenType": 16,
    "lenVar": 40
   },
   "kernels_config": {
    "python": {
     "delete_cmd_postfix": "",
     "delete_cmd_prefix": "del ",
     "library": "var_list.py",
     "varRefreshCmd": "print(var_dic_list())"
    },
    "r": {
     "delete_cmd_postfix": ") ",
     "delete_cmd_prefix": "rm(",
     "library": "var_list.r",
     "varRefreshCmd": "cat(var_dic_list()) "
    }
   },
   "types_to_exclude": [
    "module",
    "function",
    "builtin_function_or_method",
    "instance",
    "_Feature"
   ],
   "window_display": false
  }
 },
 "nbformat": 4,
 "nbformat_minor": 5
}
