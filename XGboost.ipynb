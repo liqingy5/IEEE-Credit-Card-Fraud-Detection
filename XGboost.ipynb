{
 "cells": [
  {
   "cell_type": "code",
   "execution_count": null,
   "id": "279593de",
   "metadata": {},
   "outputs": [],
   "source": [
    "from sklearn.model_selection import train_test_split\n",
    "import xgboost as xgb\n",
    "import pandas as pd\n",
    "import metrics\n",
    "import pickle\n",
    "\n",
    "import Evaluation as eva\n",
    "import utils\n",
    "\n",
    "__filename__ = 'XGboost.model'"
   ]
  },
  {
   "cell_type": "markdown",
   "id": "e06215c2",
   "metadata": {},
   "source": [
    "### load data"
   ]
  },
  {
   "cell_type": "code",
   "execution_count": null,
   "id": "dc674e75",
   "metadata": {},
   "outputs": [],
   "source": [
    "data = pd.read_csv(f'{utils._data_pth_}/processed/train_joined.csv', index_col=0)\n",
    "y, X = data['isFraud'], data.drop(columns=['isFraud'])\n",
    "X_train, X_test, y_train, y_test = train_test_split(X, y, test_size=0.33, random_state=utils._random_seed_)"
   ]
  },
  {
   "cell_type": "markdown",
   "id": "9c9d279d",
   "metadata": {},
   "source": [
    "### configure"
   ]
  },
  {
   "cell_type": "code",
   "execution_count": null,
   "id": "a5abadc8",
   "metadata": {},
   "outputs": [],
   "source": [
    "xgb.set_config(verbosity=2)"
   ]
  },
  {
   "cell_type": "markdown",
   "id": "77703ce8",
   "metadata": {},
   "source": [
    "### train\n"
   ]
  },
  {
   "cell_type": "code",
   "execution_count": null,
   "id": "faeda819",
   "metadata": {},
   "outputs": [],
   "source": [
    "dtrain = xgb.DMatrix(data=X_train, label=y_train)\n",
    "dtest = xgb.DMatrix(data=X_test, label=y_test)\n",
    "booster = xgb.train({\n",
    "    'objective': 'binary:logistic', \n",
    "    'eval_metric': ['auc', 'ams@0'],\n",
    "    'max_depth': 50,\n",
    "    'num_parallel_tree': 5,\n",
    "}, dtrain=dtrain)"
   ]
  },
  {
   "cell_type": "markdown",
   "id": "80f67116",
   "metadata": {},
   "source": [
    "### test"
   ]
  },
  {
   "cell_type": "code",
   "execution_count": null,
   "id": "abe8d5a3",
   "metadata": {},
   "outputs": [],
   "source": [
    "import matplotlib.pyplot as plt\n",
    "\n",
    "from sklearn.metrics import classification_report, roc_auc_score, roc_curve, confusion_matrix\n",
    "from sklearn.metrics import precision_recall_curve\n",
    "\n",
    "### Roc curve and PR curve\n",
    "def roc_pr_curve(y_test, probs_predict):\n",
    "    # Draw the ROC curve\n",
    "    plt.figure(1)\n",
    "    # ROC curve components\n",
    "    fpr, tpr, thresholdsROC = roc_curve(y_test, probs_predict)\n",
    "    #plot\n",
    "    plt.plot(fpr,tpr)\n",
    "    plt.title(\"ROC curve\")\n",
    "    plt.xlabel(\"1-SPEC\")\n",
    "    plt.ylabel(\"SENS\")\n",
    "    plt.show\n",
    "    \n",
    "    # Draw the PR curve\n",
    "    plt.figure(2)\n",
    "    # Components of the Precision recall curvey\n",
    "    precision, recall, thresholdsPR = precision_recall_curve(y_test, probs_predict)\n",
    "    # plot\n",
    "    plt.plot(recall,precision)\n",
    "    plt.title(\"PR curve\")\n",
    "    plt.xlabel(\"SENS (Recall)\")\n",
    "    plt.ylabel(\"PPV (Precision)\")\n",
    "    plt.show\n",
    "    \n",
    "\n",
    "y_pred_probs = booster.predict(dtest)\n",
    "roc_pr_curve(y_test, y_pred_probs)\n",
    "y_pred_probs[y_pred_probs >= 0.5] = 1\n",
    "y_pred_probs[y_pred_probs < 0.5] = 0\n",
    "metrics.conf_matrix(y_test, y_pred_probs)\n"
   ]
  },
  {
   "cell_type": "code",
   "execution_count": null,
   "id": "afbfc1c3",
   "metadata": {},
   "outputs": [],
   "source": [
    "type(y_pred_probs)"
   ]
  },
  {
   "cell_type": "markdown",
   "id": "15739e41",
   "metadata": {},
   "source": [
    "## Export model"
   ]
  },
  {
   "cell_type": "code",
   "execution_count": null,
   "id": "089e9a16",
   "metadata": {},
   "outputs": [],
   "source": [
    "# save the model to disk\n",
    "pickle.dump(booster, open(f'{utils._data_pth_}/models/{__filename__}', 'wb'))"
   ]
  },
  {
   "cell_type": "markdown",
   "id": "e67e9ef9",
   "metadata": {},
   "source": [
    "## Evaluation"
   ]
  },
  {
   "cell_type": "code",
   "execution_count": null,
   "id": "742f8a15",
   "metadata": {},
   "outputs": [],
   "source": [
    "eva.evaluate(\"XGboost\")"
   ]
  },
  {
   "cell_type": "markdown",
   "id": "a84b7439",
   "metadata": {},
   "source": [
    "## Grid Search"
   ]
  },
  {
   "cell_type": "code",
   "execution_count": null,
   "id": "c400f0db",
   "metadata": {},
   "outputs": [],
   "source": [
    "import gc\n",
    "import csv\n",
    "gc.enable()\n",
    "dtest = xgb.DMatrix(data=X_test, label=y_test)\n",
    "xgb.set_config(verbosity=1)\n",
    "\n",
    "fieldnames = ['max_depth', 'num_parallel_tree', 'TN', 'FP', 'FN', 'TP']\n",
    "with open('grid_search_result.csv', 'a') as csvfile:\n",
    "    writer = csv.DictWriter(csvfile, fieldnames=fieldnames)\n",
    "    writer.writeheader()\n",
    "\n",
    "for tree_depth in range(3,8):\n",
    "    if tree_depth % 10 != 0:\n",
    "        continue\n",
    "    for num_tree in range(1,50):\n",
    "        if num_tree % 9 != 0:\n",
    "            continue\n",
    "        dtrain = xgb.DMatrix(data=X_train, label=y_train)\n",
    "        booster = xgb.train({\n",
    "            'objective': 'binary:logistic', \n",
    "            'eval_metric': ['auc', 'ams@0'],\n",
    "            'max_depth': tree_depth,\n",
    "            'num_parallel_tree': num_tree,\n",
    "        }, dtrain=dtrain)\n",
    "        y_pred_probs = booster.predict(dtest)\n",
    "        y_pred_probs[y_pred_probs >= 0.5] = 1\n",
    "        y_pred_probs[y_pred_probs < 0.5] = 0\n",
    "        tn, fp, fn, tp = confusion_matrix(y_test, y_pred_probs).ravel()\n",
    "\n",
    "        with open('grid_search_result.csv', 'a') as csvfile:\n",
    "            writer = csv.DictWriter(csvfile, fieldnames=fieldnames)\n",
    "            writer.writerow({fieldnames[0]: tree_depth,\n",
    "                             fieldnames[1]: num_tree,\n",
    "                             fieldnames[2]: tn,\n",
    "                             fieldnames[3]: fp,\n",
    "                             fieldnames[4]: fn,\n",
    "                             fieldnames[5]: tp})\n",
    "\n",
    "        del booster\n",
    "        del dtrain\n",
    "        \n"
   ]
  },
  {
   "cell_type": "code",
   "execution_count": null,
   "id": "3dbb6085",
   "metadata": {},
   "outputs": [],
   "source": []
  }
 ],
 "metadata": {
  "kernelspec": {
   "display_name": "python bionlp",
   "language": "python",
   "name": "bionlp"
  },
  "language_info": {
   "codemirror_mode": {
    "name": "ipython",
    "version": 3
   },
   "file_extension": ".py",
   "mimetype": "text/x-python",
   "name": "python",
   "nbconvert_exporter": "python",
   "pygments_lexer": "ipython3",
   "version": "3.7.11"
  },
  "varInspector": {
   "cols": {
    "lenName": 16,
    "lenType": 16,
    "lenVar": 40
   },
   "kernels_config": {
    "python": {
     "delete_cmd_postfix": "",
     "delete_cmd_prefix": "del ",
     "library": "var_list.py",
     "varRefreshCmd": "print(var_dic_list())"
    },
    "r": {
     "delete_cmd_postfix": ") ",
     "delete_cmd_prefix": "rm(",
     "library": "var_list.r",
     "varRefreshCmd": "cat(var_dic_list()) "
    }
   },
   "types_to_exclude": [
    "module",
    "function",
    "builtin_function_or_method",
    "instance",
    "_Feature"
   ],
   "window_display": false
  }
 },
 "nbformat": 4,
 "nbformat_minor": 5
}
