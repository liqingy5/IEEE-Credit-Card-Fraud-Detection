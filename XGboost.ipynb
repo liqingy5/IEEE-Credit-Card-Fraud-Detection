{
 "cells": [
  {
   "cell_type": "code",
   "execution_count": null,
   "id": "279593de",
   "metadata": {},
   "outputs": [],
   "source": [
    "from sklearn.model_selection import train_test_split\n",
    "import xgboost as xgb\n",
    "import pandas as pd\n",
    "import metrics\n",
    "import pickle\n",
    "\n",
    "import Evaluation as eva\n",
    "import utils\n",
    "\n",
    "__filename__ = 'XGboost.model'\n",
    "__dataname__ = 'train_joined.csv'"
   ]
  },
  {
   "cell_type": "markdown",
   "id": "e06215c2",
   "metadata": {},
   "source": [
    "### load data"
   ]
  },
  {
   "cell_type": "code",
   "execution_count": null,
   "id": "dc674e75",
   "metadata": {},
   "outputs": [],
   "source": [
    "data = pd.read_csv(f'{utils._data_pth_}/processed/{__dataname__}', index_col=0)\n",
    "y, X = data['isFraud'], data.drop(columns=['isFraud'])\n",
    "X_train, X_test, y_train, y_test = train_test_split(X, y, test_size=0.33, random_state=utils._random_seed_)"
   ]
  },
  {
   "cell_type": "markdown",
   "id": "9c9d279d",
   "metadata": {},
   "source": [
    "### configure"
   ]
  },
  {
   "cell_type": "code",
   "execution_count": null,
   "id": "a5abadc8",
   "metadata": {},
   "outputs": [],
   "source": [
    "xgb.set_config(verbosity=2)"
   ]
  },
  {
   "cell_type": "markdown",
   "id": "77703ce8",
   "metadata": {},
   "source": [
    "### train\n"
   ]
  },
  {
   "cell_type": "code",
   "execution_count": null,
   "id": "faeda819",
   "metadata": {},
   "outputs": [],
   "source": [
    "dtrain = xgb.DMatrix(data=X_train, label=y_train)\n",
    "dtest = xgb.DMatrix(data=X_test, label=y_test)\n",
    "booster = xgb.train({\n",
    "    'objective': 'binary:logistic', \n",
    "    'eval_metric': ['auc', 'ams@0'],\n",
    "    'max_depth': 400,\n",
    "    'num_parallel_tree': 10,\n",
    "}, dtrain=dtrain)"
   ]
  },
  {
   "cell_type": "markdown",
   "id": "15739e41",
   "metadata": {},
   "source": [
    "## Export model"
   ]
  },
  {
   "cell_type": "code",
   "execution_count": null,
   "id": "bacca4a6",
   "metadata": {},
   "outputs": [],
   "source": [
    "# save the model to disk\n",
    "pickle.dump(booster, open(f'{utils._data_pth_}/models/{__filename__}', 'wb'))"
   ]
  },
  {
   "cell_type": "markdown",
   "id": "80f67116",
   "metadata": {},
   "source": [
    "### test"
   ]
  },
  {
   "cell_type": "code",
   "execution_count": null,
   "id": "abe8d5a3",
   "metadata": {},
   "outputs": [],
   "source": [
    "import matplotlib.pyplot as plt\n",
    "\n",
    "import metrics\n",
    "\n",
    "y_pred_probs = booster.predict(dtest)\n",
    "metrics.roc_pr_curve(y_test, y_pred_probs)\n",
    "y_pred_probs[y_pred_probs >= 0.5] = 1\n",
    "y_pred_probs[y_pred_probs < 0.5] = 0\n",
    "metrics.conf_matrix(y_test, y_pred_probs)\n"
   ]
  },
  {
   "cell_type": "code",
   "execution_count": null,
   "id": "afbfc1c3",
   "metadata": {},
   "outputs": [],
   "source": [
    "type(y_pred_probs)"
   ]
  },
  {
   "cell_type": "markdown",
   "id": "ba0e14e7",
   "metadata": {},
   "source": [
    "## Grid Search"
   ]
  },
  {
   "cell_type": "code",
   "execution_count": null,
   "id": "8da0dce4",
   "metadata": {},
   "outputs": [],
   "source": [
    "import gc\n",
    "import csv\n",
    "from sklearn.metrics import classification_report, roc_auc_score, roc_curve, confusion_matrix\n",
    "gc.enable()\n",
    "dtest = xgb.DMatrix(data=X_test, label=y_test)\n",
    "xgb.set_config(verbosity=1)\n",
    "\n",
    "fieldnames = ['max_depth', 'num_parallel_tree', 'TN', 'FP', 'FN', 'TP', 'RECALL', 'AUC',]\n",
    "with open('grid_search_result.csv', 'a') as csvfile:\n",
    "    writer = csv.DictWriter(csvfile, fieldnames=fieldnames)\n",
    "    writer.writeheader()\n",
    "\n",
    "for tree_depth in range(100, 401, 20):\n",
    "    for num_tree in range(5,11):\n",
    "        dtrain = xgb.DMatrix(data=X_train, label=y_train)\n",
    "        booster = xgb.train({\n",
    "            'objective': 'binary:logistic', \n",
    "            'eval_metric': ['auc', 'ams@0'],\n",
    "            'max_depth': tree_depth,\n",
    "            'num_parallel_tree': num_tree,\n",
    "        }, dtrain=dtrain)\n",
    "        y_pred_probs = booster.predict(dtest)\n",
    "        y_pred_probs[y_pred_probs >= 0.5] = 1\n",
    "        y_pred_probs[y_pred_probs < 0.5] = 0\n",
    "        tn, fp, fn, tp = confusion_matrix(y_test, y_pred_probs).ravel()\n",
    "        auc = roc_auc_score(y_test, y_pred_probs)\n",
    "        with open('grid_search_result.csv', 'a') as csvfile:\n",
    "            writer = csv.DictWriter(csvfile, fieldnames=fieldnames)\n",
    "            writer.writerow({fieldnames[0]: tree_depth,\n",
    "                             fieldnames[1]: num_tree,\n",
    "                             fieldnames[2]: tn,\n",
    "                             fieldnames[3]: fp,\n",
    "                             fieldnames[4]: fn,\n",
    "                             fieldnames[5]: tp,\n",
    "                             fieldnames[6]: tp/(tp+fn),\n",
    "                             fieldnames[7]: auc})\n",
    "\n",
    "        del booster\n",
    "        del dtrain\n",
    "        \n"
   ]
  },
  {
   "cell_type": "code",
   "execution_count": null,
   "id": "885e0e36",
   "metadata": {},
   "outputs": [],
   "source": []
  }
 ],
 "metadata": {
  "kernelspec": {
   "display_name": "Python 3",
   "language": "python",
   "name": "python3"
  },
  "language_info": {
   "codemirror_mode": {
    "name": "ipython",
    "version": 3
   },
   "file_extension": ".py",
   "mimetype": "text/x-python",
   "name": "python",
   "nbconvert_exporter": "python",
   "pygments_lexer": "ipython3",
   "version": "3.9.7"
  },
  "varInspector": {
   "cols": {
    "lenName": 16,
    "lenType": 16,
    "lenVar": 40
   },
   "kernels_config": {
    "python": {
     "delete_cmd_postfix": "",
     "delete_cmd_prefix": "del ",
     "library": "var_list.py",
     "varRefreshCmd": "print(var_dic_list())"
    },
    "r": {
     "delete_cmd_postfix": ") ",
     "delete_cmd_prefix": "rm(",
     "library": "var_list.r",
     "varRefreshCmd": "cat(var_dic_list()) "
    }
   },
   "types_to_exclude": [
    "module",
    "function",
    "builtin_function_or_method",
    "instance",
    "_Feature"
   ],
   "window_display": false
  }
 },
 "nbformat": 4,
 "nbformat_minor": 5
}
