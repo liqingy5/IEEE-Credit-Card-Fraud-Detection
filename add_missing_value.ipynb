{
 "cells": [
  {
   "cell_type": "code",
   "execution_count": null,
   "metadata": {},
   "outputs": [],
   "source": [
    "import os\n",
    "import numpy as np # linear algebra\n",
    "import pandas as pd # data processing, CSV file I/O (e.g. pd.read_csv)\n",
    "import random\n",
    "import utils"
   ]
  },
  {
   "cell_type": "markdown",
   "metadata": {},
   "source": [
    "## Add missing value to dataset"
   ]
  },
  {
   "cell_type": "code",
   "execution_count": null,
   "metadata": {},
   "outputs": [],
   "source": [
    "for (x1,x2) in [('train_joined.csv','train_joined_missing_value.csv'), ('test_joined.csv','test_joined_missing_value.csv')]:\n",
    "    if not os.path.exists(f'{utils._data_pth_}/processed/{x2}'):\n",
    "        df = pd.read_csv(f'{utils._data_pth_}/processed/{x1}')\n",
    "        mask = np.random.choice([True, False], size=df.shape, p=[.3,.7])\n",
    "        df.mask(mask, other=0.0, inplace=True)\n",
    "        df.to_csv(f'{utils._data_pth_}/processed/{x2}', index=False)\n",
    "\n",
    "            "
   ]
  },
  {
   "cell_type": "markdown",
   "metadata": {},
   "source": [
    "### Test missing value percent"
   ]
  },
  {
   "cell_type": "code",
   "execution_count": null,
   "metadata": {},
   "outputs": [],
   "source": [
    "for x in ['train_joined_missing_value.csv', 'test_joined_missing_value.csv']:\n",
    "    df = pd.read_csv(f'{utils._data_pth_}/processed/{x}')\n",
    "    total_missing = 0\n",
    "    for column_name in df.columns:\n",
    "        total_missing += (df[column_name] == 0.0).sum()\n",
    "    print(total_missing)\n",
    "    print(\"Missing value percent\",total_missing/(df.shape[0]*df.shape[1]))\n",
    "    del df"
   ]
  }
 ],
 "metadata": {
  "interpreter": {
   "hash": "cc5f70855ac006f3de45a3cc3b9e7d8d53845e50458809cb162b0174266dec97"
  },
  "kernelspec": {
   "display_name": "Python 3.9.7 ('base')",
   "language": "python",
   "name": "python3"
  },
  "language_info": {
   "codemirror_mode": {
    "name": "ipython",
    "version": 3
   },
   "file_extension": ".py",
   "mimetype": "text/x-python",
   "name": "python",
   "nbconvert_exporter": "python",
   "pygments_lexer": "ipython3",
   "version": "3.9.7"
  },
  "orig_nbformat": 4
 },
 "nbformat": 4,
 "nbformat_minor": 2
}
