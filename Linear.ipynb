{
 "cells": [
  {
   "cell_type": "code",
   "execution_count": 31,
   "id": "32c681dd",
   "metadata": {},
   "outputs": [],
   "source": [
    "import sys\n",
    "import pandas as pd\n",
    "import numpy as np\n",
    "from sklearn.linear_model import SGDClassifier as SGD\n",
    "from sklearn.kernel_approximation import RBFSampler\n",
    "from sklearn.model_selection import train_test_split\n",
    "from sklearn.pipeline import make_pipeline\n",
    "\n",
    "import utils\n",
    "\n",
    "default_stdout = sys.stdout\n",
    "__filename__ = \"SVM.model\""
   ]
  },
  {
   "cell_type": "markdown",
   "id": "e20cc97f",
   "metadata": {},
   "source": [
    "### Load Data"
   ]
  },
  {
   "cell_type": "code",
   "execution_count": 32,
   "id": "e124def5",
   "metadata": {},
   "outputs": [],
   "source": [
    "data = pd.read_csv(f'{utils._data_pth_}/processed/train_joined.csv', index_col=0)"
   ]
  },
  {
   "cell_type": "markdown",
   "id": "becc0843",
   "metadata": {},
   "source": [
    "### class balance adjustment"
   ]
  },
  {
   "cell_type": "code",
   "execution_count": 64,
   "id": "28d4421c",
   "metadata": {},
   "outputs": [],
   "source": [
    "y, X = data['isFraud'].copy(), data.drop(columns=['isFraud']).copy()\n",
    "# curtail label 0 to make classes less imbalanced\n",
    "# label1_cnt = len(y[y == 1])\n",
    "# labe10_indices = y[y == 0].index\n",
    "# y = y.drop(labe10_indices[:1*label1_cnt])\n",
    "# X = X.drop(labe10_indices[:1*label1_cnt])\n",
    "X_train, X_test, Y_train, Y_test = train_test_split(X, y, test_size=0.33)"
   ]
  },
  {
   "cell_type": "markdown",
   "id": "20e997d6",
   "metadata": {},
   "source": [
    "### Configureation"
   ]
  },
  {
   "cell_type": "code",
   "execution_count": 65,
   "id": "00f82108",
   "metadata": {},
   "outputs": [],
   "source": [
    "regression_type = \"SVM\"\n",
    "_regression_loss = \"log\" if regression_type == \"LR\" else \"hinge\" # logistic: log, svm: hinge\n",
    "monte_carlo_num = 2 # for RBF kernel\n",
    "gradient_penalty = \"l1\"\n",
    "learning_rate = \"optimal\"\n",
    "rbf_gamma = \"scale\""
   ]
  },
  {
   "cell_type": "markdown",
   "id": "d2212699",
   "metadata": {},
   "source": [
    "### Train"
   ]
  },
  {
   "cell_type": "code",
   "execution_count": 66,
   "id": "bc8e7e55",
   "metadata": {},
   "outputs": [],
   "source": [
    "# RBF feature engineering\n",
    "rbf = RBFSampler(gamma=rbf_gamma, random_state=1, n_components=X_train.shape[1]*monte_carlo_num)\n",
    "# stochastic gradient descent to speed up training\n",
    "reg = SGD(loss=_regression_loss, penalty=gradient_penalty, verbose=1, learning_rate=learning_rate)\n",
    "model = make_pipeline(reg)\n",
    "sys.stdout = open(\"./svm_train.out\", 'w')\n",
    "model.fit(X_train, Y_train)\n",
    "sys.stdout.close()\n",
    "sys.stdout = default_stdout"
   ]
  },
  {
   "cell_type": "markdown",
   "id": "eb9e5ceb",
   "metadata": {},
   "source": [
    "### Test"
   ]
  },
  {
   "cell_type": "code",
   "execution_count": 67,
   "id": "5fa54d2a",
   "metadata": {},
   "outputs": [
    {
     "name": "stdout",
     "output_type": "stream",
     "text": [
      "Test data\n",
      "[[3484, 379552], [2241, 10384]]\n",
      "Misclassification error =  12625\n",
      "SENS(recall)  =  0.251225843668878\n",
      "SPEC   =  0.9941303271668155\n",
      "PPV(Precision)   =  0.6085589519650655\n",
      "NPV   =  0.9733699889212589\n",
      "F1-SCORE =  0.3556372173735518\n",
      "None\n"
     ]
    }
   ],
   "source": [
    "import metrics\n",
    "# sc_train = model.score(X_train, Y_train)\n",
    "# sc_test = model.score(X_test, Y_test)\n",
    "y_pred_test = model.predict(X_train)\n",
    "# probs=model.predict_proba(X_test)\n",
    "# print(sc_train)\n",
    "# print(sc_test)\n",
    "print(metrics.conf_matrix(Y_train,y_pred_test))\n",
    "# metrics.roc_pr_curve(Y_test,probs[:,1])"
   ]
  },
  {
   "cell_type": "code",
   "execution_count": null,
   "id": "1090fd55",
   "metadata": {},
   "outputs": [],
   "source": []
  }
 ],
 "metadata": {
  "kernelspec": {
   "display_name": "Python 3",
   "language": "python",
   "name": "python3"
  },
  "language_info": {
   "codemirror_mode": {
    "name": "ipython",
    "version": 3
   },
   "file_extension": ".py",
   "mimetype": "text/x-python",
   "name": "python",
   "nbconvert_exporter": "python",
   "pygments_lexer": "ipython3",
   "version": "3.7.6"
  },
  "varInspector": {
   "cols": {
    "lenName": 16,
    "lenType": 16,
    "lenVar": 40
   },
   "kernels_config": {
    "python": {
     "delete_cmd_postfix": "",
     "delete_cmd_prefix": "del ",
     "library": "var_list.py",
     "varRefreshCmd": "print(var_dic_list())"
    },
    "r": {
     "delete_cmd_postfix": ") ",
     "delete_cmd_prefix": "rm(",
     "library": "var_list.r",
     "varRefreshCmd": "cat(var_dic_list()) "
    }
   },
   "types_to_exclude": [
    "module",
    "function",
    "builtin_function_or_method",
    "instance",
    "_Feature"
   ],
   "window_display": false
  }
 },
 "nbformat": 4,
 "nbformat_minor": 5
}
