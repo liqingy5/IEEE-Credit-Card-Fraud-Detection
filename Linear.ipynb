{
 "cells": [
  {
   "cell_type": "code",
   "execution_count": null,
   "id": "32c681dd",
   "metadata": {},
   "outputs": [],
   "source": [
    "import sys\n",
    "import pandas as pd\n",
    "import numpy as np\n",
    "from sklearn.linear_model import SGDClassifier as SGD\n",
    "from sklearn.kernel_approximation import RBFSampler\n",
    "from sklearn.model_selection import train_test_split\n",
    "from sklearn.pipeline import make_pipeline\n",
    "\n",
    "import utils\n",
    "\n",
    "default_stdout = sys.stdout\n",
    "__filename__ = \"SVM.model\""
   ]
  },
  {
   "cell_type": "markdown",
   "id": "e20cc97f",
   "metadata": {},
   "source": [
    "### Load Data"
   ]
  },
  {
   "cell_type": "code",
   "execution_count": null,
   "id": "e124def5",
   "metadata": {},
   "outputs": [],
   "source": [
    "data = pd.read_csv(f'{utils._data_pth_}/processed/train_joined.csv', index_col=0)\n",
    "y, X = data['isFraud'], data.drop(columns=['isFraud'])\n",
    "X_train, X_test, Y_train, Y_test = train_test_split(X, y, test_size=0.33, random_state=utils._random_seed_)"
   ]
  },
  {
   "cell_type": "code",
   "execution_count": null,
   "id": "4cc997d9",
   "metadata": {},
   "outputs": [],
   "source": [
    "print(len(X_train[X_train.card1>0]), len(X_train[X_train.card1<0]))\n",
    "print(len(Y_test[Y_test==1]), len(Y_test[Y_test==0]))"
   ]
  },
  {
   "cell_type": "markdown",
   "id": "20e997d6",
   "metadata": {},
   "source": [
    "### Configureation"
   ]
  },
  {
   "cell_type": "code",
   "execution_count": null,
   "id": "00f82108",
   "metadata": {},
   "outputs": [],
   "source": [
    "regression_type = \"SVM\"\n",
    "_regression_loss = \"log\" if regression_type == \"LR\" else \"hinge\" # logistic: log, svm: hinge\n",
    "monte_carlo_num = 2 # for RBF kernel\n",
    "gradient_penalty = \"l1\"\n",
    "learning_rate = \"optimal\"\n",
    "rbf_gamma = \"scale\""
   ]
  },
  {
   "cell_type": "markdown",
   "id": "d2212699",
   "metadata": {},
   "source": [
    "### Train"
   ]
  },
  {
   "cell_type": "code",
   "execution_count": null,
   "id": "bc8e7e55",
   "metadata": {},
   "outputs": [],
   "source": [
    "# RBF feature engineering\n",
    "rbf = RBFSampler(gamma=rbf_gamma, random_state=1, n_components=X_train.shape[1]*monte_carlo_num)\n",
    "# stochastic gradient descent to speed up training\n",
    "reg = SGD(loss=_regression_loss, penalty=gradient_penalty, verbose=1, learning_rate=learning_rate)\n",
    "model = make_pipeline(reg)\n",
    "sys.stdout = open(\"./svm_train.out\", 'w')\n",
    "model.fit(X_train, Y_train)\n",
    "sys.stdout.close()\n",
    "sys.stdout = default_stdout"
   ]
  },
  {
   "cell_type": "markdown",
   "id": "eb9e5ceb",
   "metadata": {},
   "source": [
    "### Test"
   ]
  },
  {
   "cell_type": "code",
   "execution_count": null,
   "id": "5fa54d2a",
   "metadata": {},
   "outputs": [],
   "source": [
    "import metrics\n",
    "# sc_train = model.score(X_train, Y_train)\n",
    "# sc_test = model.score(X_test, Y_test)\n",
    "y_pred_test = model.predict(X_train)\n",
    "# probs=model.predict_proba(X_test)\n",
    "# print(sc_train)\n",
    "# print(sc_test)\n",
    "print(metrics.conf_matrix(Y_train,y_pred_test))\n",
    "# metrics.roc_pr_curve(Y_test,probs[:,1])"
   ]
  }
 ],
 "metadata": {
  "kernelspec": {
   "display_name": "Python 3 (ipykernel)",
   "language": "python",
   "name": "python3"
  },
  "language_info": {
   "codemirror_mode": {
    "name": "ipython",
    "version": 3
   },
   "file_extension": ".py",
   "mimetype": "text/x-python",
   "name": "python",
   "nbconvert_exporter": "python",
   "pygments_lexer": "ipython3",
   "version": "3.9.7"
  },
  "varInspector": {
   "cols": {
    "lenName": 16,
    "lenType": 16,
    "lenVar": 40
   },
   "kernels_config": {
    "python": {
     "delete_cmd_postfix": "",
     "delete_cmd_prefix": "del ",
     "library": "var_list.py",
     "varRefreshCmd": "print(var_dic_list())"
    },
    "r": {
     "delete_cmd_postfix": ") ",
     "delete_cmd_prefix": "rm(",
     "library": "var_list.r",
     "varRefreshCmd": "cat(var_dic_list()) "
    }
   },
   "types_to_exclude": [
    "module",
    "function",
    "builtin_function_or_method",
    "instance",
    "_Feature"
   ],
   "window_display": false
  }
 },
 "nbformat": 4,
 "nbformat_minor": 5
}
