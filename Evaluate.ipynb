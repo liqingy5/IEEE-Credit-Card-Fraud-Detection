{
 "cells": [
  {
   "cell_type": "code",
   "execution_count": null,
   "metadata": {},
   "outputs": [],
   "source": [
    "import Evaluation as eva"
   ]
  },
  {
   "cell_type": "markdown",
   "metadata": {},
   "source": [
    "### SVM"
   ]
  },
  {
   "cell_type": "code",
   "execution_count": null,
   "metadata": {},
   "outputs": [],
   "source": [
    "eva.evaluate(\"SVM\",\"train_joined\")"
   ]
  },
  {
   "cell_type": "code",
   "execution_count": null,
   "metadata": {},
   "outputs": [],
   "source": [
    "eva.evaluate(\"SVM_missing_value\",\"train_joined_missing_value\")"
   ]
  },
  {
   "cell_type": "code",
   "execution_count": null,
   "metadata": {},
   "outputs": [],
   "source": [
    "eva.evaluate(\"SVM_redundant\",\"train_joined_redundant_value\")"
   ]
  },
  {
   "cell_type": "code",
   "execution_count": null,
   "metadata": {},
   "outputs": [],
   "source": [
    "eva.evaluate(\"SVM_undersample\",\"train_joined_undersampled_value\")"
   ]
  },
  {
   "cell_type": "markdown",
   "metadata": {},
   "source": [
    "### LR"
   ]
  },
  {
   "cell_type": "code",
   "execution_count": null,
   "metadata": {},
   "outputs": [],
   "source": [
    "eva.evaluate(\"LR\",\"train_joined\")"
   ]
  },
  {
   "cell_type": "code",
   "execution_count": null,
   "metadata": {},
   "outputs": [],
   "source": [
    "eva.evaluate(\"LR_missing_value\",\"train_joined_missing_value\")"
   ]
  },
  {
   "cell_type": "code",
   "execution_count": null,
   "metadata": {},
   "outputs": [],
   "source": [
    "eva.evaluate(\"LR_redundant\",\"train_joined_redundant_value\")"
   ]
  },
  {
   "cell_type": "code",
   "execution_count": null,
   "metadata": {},
   "outputs": [],
   "source": [
    "eva.evaluate(\"LR_undersample\",\"train_joined_undersampled_value\")"
   ]
  },
  {
   "cell_type": "markdown",
   "metadata": {},
   "source": [
    "### XGboost"
   ]
  },
  {
   "cell_type": "code",
   "execution_count": null,
   "metadata": {},
   "outputs": [],
   "source": [
    "eva.evaluate(\"XGboost\",\"train_joined\")"
   ]
  },
  {
   "cell_type": "code",
   "execution_count": null,
   "metadata": {},
   "outputs": [],
   "source": [
    "eva.evaluate(\"XGboost_missing_value\",\"train_joined_missing_value\")"
   ]
  },
  {
   "cell_type": "code",
   "execution_count": null,
   "metadata": {},
   "outputs": [],
   "source": [
    "eva.evaluate(\"XGboost_redundant\",\"train_joined_redundant_value\")"
   ]
  },
  {
   "cell_type": "code",
   "execution_count": null,
   "metadata": {},
   "outputs": [],
   "source": [
    "eva.evaluate(\"XGboost_undersample\",\"train_joined_undersampled_value\")"
   ]
  },
  {
   "cell_type": "markdown",
   "metadata": {},
   "source": [
    "### Evaluate neural nets"
   ]
  },
  {
   "cell_type": "code",
   "execution_count": null,
   "metadata": {},
   "outputs": [],
   "source": [
    "import torch\n",
    "import numpy as np\n",
    "import pandas as pd \n",
    "import sklearn\n",
    "\n",
    "from torch import nn\n",
    "from torch.utils.data import \\\n",
    "    Dataset as DS, \\\n",
    "    DataLoader as DL\n",
    "from pandas import read_csv\n",
    "from ipdb import set_trace\n",
    "\n",
    "from AlexNet import AlexNet\n",
    "\n",
    "import utils"
   ]
  },
  {
   "cell_type": "code",
   "execution_count": null,
   "metadata": {},
   "outputs": [],
   "source": [
    "data_type = \"standard\"\n",
    "X_train, X_test, Y_train, Y_test = utils.load_standard_data(data_type=data_type)"
   ]
  },
  {
   "cell_type": "markdown",
   "metadata": {},
   "source": [
    "### testing configuration"
   ]
  },
  {
   "cell_type": "code",
   "execution_count": null,
   "metadata": {},
   "outputs": [],
   "source": [
    "dropout = 0.5\n",
    "lr = 0.0002\n",
    "batch_size = 100\n",
    "num_classes = 1\n",
    "epochs = 100"
   ]
  },
  {
   "cell_type": "code",
   "execution_count": null,
   "metadata": {},
   "outputs": [],
   "source": [
    "import metrics\n",
    "from sklearn.metrics import classification_report, roc_auc_score, roc_curve, confusion_matrix\n",
    "_data_type_ = \"\"\n",
    "\n",
    "try:\n",
    "    del X_train\n",
    "    del Y_train\n",
    "except NameError:\n",
    "    pass\n",
    "\n",
    "input_X = torch.Tensor(X_test.values).unsqueeze(1)\n",
    "AN = AlexNet(num_classes=num_classes, dropout=dropout)\n",
    "# if torch.cuda.is_available():\n",
    "#     input_X = input_X.cuda()\n",
    "#     AN.cuda()\n"
   ]
  },
  {
   "cell_type": "code",
   "execution_count": null,
   "metadata": {},
   "outputs": [],
   "source": [
    "from sklearn.metrics import roc_auc_score, confusion_matrix\n",
    "\n",
    "AUCs = []\n",
    "TNs, FPs, FNs, TPs = [], [], [], []\n",
    "RECALLS = []\n",
    "\n",
    "for i in range(5, 100, 5):\n",
    "    _model_state_ = torch.load(f'{utils._data_pth_}/models/AN_{data_type}_epochs_{i}.pth', \"cuda\" if torch.cuda.is_available() else \"cpu\") \n",
    "    AN.load_state_dict(_model_state_)\n",
    "    y_pred_probs = AN(input_X).detach().numpy()\n",
    "    \n",
    "    auc = roc_auc_score(Y_test, y_pred_probs)\n",
    "    y_pred_probs[y_pred_probs >= 0.5] = 1\n",
    "    y_pred_probs[y_pred_probs < 0.5] = 0\n",
    "    tn, fp, fn, tp = confusion_matrix(Y_test, y_pred_probs).ravel()\n",
    "    \n",
    "    AUCs.append(auc)\n",
    "    TNs.append(tn)\n",
    "    FPs.append(tp)\n",
    "    FNs.append(fn)\n",
    "    TPs.append(fp)\n",
    "    \n"
   ]
  },
  {
   "cell_type": "code",
   "execution_count": null,
   "metadata": {},
   "outputs": [],
   "source": [
    "from matplotlib import pyplot as plt\n",
    "import numpy as np\n",
    "\n",
    "fig, ax = plt.subplots()\n",
    "ax.plot(AUCs)\n",
    "ax.plot(TNs)\n",
    "ax.plot(np.array(TNs) / (np.array(TNs) + np.array(FNs)))\n",
    "plt.show()"
   ]
  },
  {
   "cell_type": "code",
   "execution_count": null,
   "metadata": {},
   "outputs": [],
   "source": [
    "from pandas import DataFrame\n",
    "\n",
    "DataFrame({\"AUC\": AUCs, \"TN\": TNs, \"FN\": FNs, \"TP\": TPs}).to_csv(f\"{utils._data_pth_}/models/AN_{data_type}_results.csv\")"
   ]
  }
 ],
 "metadata": {
  "interpreter": {
   "hash": "cc5f70855ac006f3de45a3cc3b9e7d8d53845e50458809cb162b0174266dec97"
  },
  "kernelspec": {
   "display_name": "Python 3",
   "language": "python",
   "name": "python3"
  },
  "language_info": {
   "codemirror_mode": {
    "name": "ipython",
    "version": 3
   },
   "file_extension": ".py",
   "mimetype": "text/x-python",
   "name": "python",
   "nbconvert_exporter": "python",
   "pygments_lexer": "ipython3",
   "version": "3.9.7"
  },
  "varInspector": {
   "cols": {
    "lenName": 16,
    "lenType": 16,
    "lenVar": 40
   },
   "kernels_config": {
    "python": {
     "delete_cmd_postfix": "",
     "delete_cmd_prefix": "del ",
     "library": "var_list.py",
     "varRefreshCmd": "print(var_dic_list())"
    },
    "r": {
     "delete_cmd_postfix": ") ",
     "delete_cmd_prefix": "rm(",
     "library": "var_list.r",
     "varRefreshCmd": "cat(var_dic_list()) "
    }
   },
   "types_to_exclude": [
    "module",
    "function",
    "builtin_function_or_method",
    "instance",
    "_Feature"
   ],
   "window_display": false
  }
 },
 "nbformat": 4,
 "nbformat_minor": 2
}
