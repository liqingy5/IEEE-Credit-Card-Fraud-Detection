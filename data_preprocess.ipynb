{
 "cells": [
  {
   "cell_type": "code",
   "execution_count": null,
   "id": "dc3cffc7",
   "metadata": {},
   "outputs": [],
   "source": [
    "import os\n",
    "import numpy as np # linear algebra\n",
    "import pandas as pd # data processing, CSV file I/O (e.g. pd.read_csv)\n",
    "import matplotlib.pylab as plt\n",
    "# from ipdb import set_trace\n",
    "\n",
    "import utils"
   ]
  },
  {
   "cell_type": "markdown",
   "id": "9b246e97",
   "metadata": {},
   "source": [
    "### Join two datasets"
   ]
  },
  {
   "cell_type": "code",
   "execution_count": null,
   "id": "6ec4ecc2",
   "metadata": {},
   "outputs": [],
   "source": [
    "if not os.path.exists(f'{utils._data_pth_}/joined_dataset/'):\n",
    "    os.mkdir(f'{utils._data_pth_}/joined_dataset/')\n",
    "    \n",
    "for (x1, x2, x3) in [('train_transaction.csv', 'train_identity.csv', 'train_joined.csv'), \n",
    "                 ('test_transaction.csv', 'test_identity.csv', 'test_joined.csv')]:\n",
    "    if not os.path.exists(f'{utils._data_pth_}/joined_dataset/{x3}'):\n",
    "        \n",
    "        mat1 = pd.read_csv(f'{utils._data_pth_}/{x1}')\n",
    "        mat2 = pd.read_csv(f'{utils._data_pth_}/{x2}')\n",
    "        joined_mat = mat1.set_index('TransactionID').join(mat2.set_index('TransactionID'), how='left')\n",
    "        joined_mat.to_csv(f'{utils._data_pth_}/joined_dataset/{x3}', index=True)"
   ]
  },
  {
   "cell_type": "markdown",
   "id": "fff07ef7",
   "metadata": {},
   "source": [
    "### convert nominal"
   ]
  },
  {
   "cell_type": "code",
   "execution_count": null,
   "id": "922bd2b5",
   "metadata": {},
   "outputs": [],
   "source": [
    "def transform_categorical(dat: pd.DataFrame):\n",
    "    for c in dat.columns:\n",
    "        # check categorical\n",
    "        if not len(dat[[c]].std()):\n",
    "            dat[[c]] = dat[[c]].fillna(dat[[c]].mode()) # fill na with the mode category\n",
    "            uniques = dict([(v, i) for i, v in enumerate(set(dat[c]))])\n",
    "            dat[[c]] = dat[[c]].replace(uniques)"
   ]
  },
  {
   "cell_type": "markdown",
   "id": "79521013",
   "metadata": {},
   "source": [
    "### normalize numerical: clip outliers, fill nan, standardize"
   ]
  },
  {
   "cell_type": "code",
   "execution_count": null,
   "id": "554e18f4",
   "metadata": {},
   "outputs": [],
   "source": [
    "def normalize(dat: pd.DataFrame):\n",
    "    for c in dat.columns:\n",
    "        # check numerical\n",
    "        if len(dat[[c]].std()):\n",
    "            dat[[c]] = dat[[c]].fillna(0)\n",
    "            _mean, _std = dat[[c]].mean(axis=0), dat[[c]].std(axis=0)\n",
    "            # clip outliers (3 std away)\n",
    "            lo, hi = _mean - 3*_std, _mean + 3*_std\n",
    "            dat[[c]] = dat[[c]].clip(lo.item(), hi.item())\n",
    "            # normalize\n",
    "            dat[[c]] = (dat[[c]] - _mean) / _std"
   ]
  },
  {
   "cell_type": "markdown",
   "id": "4af98d55",
   "metadata": {},
   "source": [
    "### preprocess and save"
   ]
  },
  {
   "cell_type": "code",
   "execution_count": null,
   "id": "d5d740d5",
   "metadata": {},
   "outputs": [],
   "source": [
    "if not os.path.exists(f'{utils._data_pth_}/processed/'):\n",
    "    os.mkdir(f'{utils._data_pth_}/processed/')\n",
    "    \n",
    "for x in ['train_joined.csv', 'test_joined.csv']:\n",
    "    if not os.path.exists(f'{utils._data_pth_}/processed/{x}'):\n",
    "        \n",
    "        mat = pd.read_csv(f'{utils._data_pth_}/joined_dataset/{x}')\n",
    "        # remove ID\n",
    "        if 'TransactionID' in mat.columns:\n",
    "            _ids = mat['TransactionID']\n",
    "            mat.drop(columns=['TransactionID'], inplace=True)\n",
    "        if 'isFraud' in mat.columns:\n",
    "            _labels = mat['isFraud']\n",
    "            mat.drop(columns=['isFraud'], inplace=True)\n",
    "        transform_categorical(mat)\n",
    "        normalize(mat)\n",
    "        mat = pd.concat((_ids, _labels, mat), axis=1)\n",
    "#         set_trace()\n",
    "        mat.to_csv(f'{utils._data_pth_}/processed/{x}', index=False)\n",
    "        del mat"
   ]
  },
  {
   "cell_type": "markdown",
   "id": "94a95bec",
   "metadata": {},
   "source": [
    "### add missing value to dataset"
   ]
  },
  {
   "cell_type": "code",
   "execution_count": null,
   "id": "1dfe1c81",
   "metadata": {},
   "outputs": [],
   "source": [
    "def cnt_missing(df):\n",
    "    total_missing = 0\n",
    "    for column_name in df.columns:\n",
    "        total_missing += (df[column_name] == 0.0).sum()\n",
    "    print(total_missing)\n",
    "    print(\"Missing value percent before modification: \",total_missing/(df.shape[0]*df.shape[1]))\n",
    "        \n",
    "for (x1,x2) in [('train_joined.csv','train_joined_missing_value.csv'), ('test_joined.csv','test_joined_missing_value.csv')]:\n",
    "    df = pd.read_csv(f'{utils._data_pth_}/processed/{x1}')\n",
    "    cnt_missing(df)\n",
    "\n",
    "    # modify the data\n",
    "    mask = np.random.choice([True, False], size=df.shape, p=[.3,.7])\n",
    "    df.mask(mask, other=0.0, inplace=True)\n",
    "    df.to_csv(f'{utils._data_pth_}/processed/{x2}', index=False)"
   ]
  },
  {
   "cell_type": "markdown",
   "id": "3eb7336b",
   "metadata": {},
   "source": [
    "### test missing value percent"
   ]
  },
  {
   "cell_type": "code",
   "execution_count": null,
   "id": "ad0c42d6",
   "metadata": {},
   "outputs": [],
   "source": [
    "for (x1,x2) in [('train_joined.csv','train_joined_missing_value.csv'), ('test_joined.csv','test_joined_missing_value.csv')]:\n",
    "    df = pd.read_csv(f'{utils._data_pth_}/processed/{x2}')\n",
    "    cnt_missing(df)\n",
    "    del df"
   ]
  },
  {
   "cell_type": "code",
   "execution_count": null,
   "id": "30c6c281",
   "metadata": {},
   "outputs": [],
   "source": []
  },
  {
   "cell_type": "code",
   "execution_count": null,
   "id": "6fe6c0ce",
   "metadata": {},
   "outputs": [],
   "source": []
  }
 ],
 "metadata": {
  "kernelspec": {
   "display_name": "Python 3",
   "language": "python",
   "name": "python3"
  },
  "language_info": {
   "codemirror_mode": {
    "name": "ipython",
    "version": 3
   },
   "file_extension": ".py",
   "mimetype": "text/x-python",
   "name": "python",
   "nbconvert_exporter": "python",
   "pygments_lexer": "ipython3",
   "version": "3.7.6"
  },
  "varInspector": {
   "cols": {
    "lenName": 16,
    "lenType": 16,
    "lenVar": 40
   },
   "kernels_config": {
    "python": {
     "delete_cmd_postfix": "",
     "delete_cmd_prefix": "del ",
     "library": "var_list.py",
     "varRefreshCmd": "print(var_dic_list())"
    },
    "r": {
     "delete_cmd_postfix": ") ",
     "delete_cmd_prefix": "rm(",
     "library": "var_list.r",
     "varRefreshCmd": "cat(var_dic_list()) "
    }
   },
   "types_to_exclude": [
    "module",
    "function",
    "builtin_function_or_method",
    "instance",
    "_Feature"
   ],
   "window_display": false
  }
 },
 "nbformat": 4,
 "nbformat_minor": 5
}
