{
 "cells": [
  {
   "cell_type": "code",
   "execution_count": null,
   "id": "a6c318b7",
   "metadata": {},
   "outputs": [],
   "source": [
    "import torch\n",
    "import numpy as np\n",
    "import pandas as pd \n",
    "import sklearn\n",
    "\n",
    "from torch import nn\n",
    "from torch.utils.data import \\\n",
    "    Dataset as DS, \\\n",
    "    DataLoader as DL\n",
    "from pandas import read_csv\n",
    "from ipdb import set_trace\n",
    "\n",
    "import utils\n"
   ]
  },
  {
   "cell_type": "markdown",
   "id": "dafa7e05",
   "metadata": {},
   "source": [
    "### load data"
   ]
  },
  {
   "cell_type": "code",
   "execution_count": null,
   "id": "1e6d1de2",
   "metadata": {},
   "outputs": [],
   "source": [
    "X_train, X_test, Y_train, Y_test = utils.load_standard_data(data_type=\"standard\")"
   ]
  },
  {
   "cell_type": "code",
   "execution_count": null,
   "id": "9a594b0d",
   "metadata": {},
   "outputs": [],
   "source": [
    "print(len(X_train[X_train.card1>0]), len(X_train[X_train.card1<0]))\n",
    "print(len(Y_test[Y_test==1]), len(Y_test[Y_test==0]))"
   ]
  },
  {
   "cell_type": "markdown",
   "id": "901e2f5c",
   "metadata": {},
   "source": [
    "### model"
   ]
  },
  {
   "cell_type": "code",
   "execution_count": null,
   "id": "6ac3f81d",
   "metadata": {},
   "outputs": [],
   "source": [
    "class AlexNet(torch.nn.Module):\n",
    "    def __init__(self, num_classes: int = 2, dropout: float = 0.5) -> None:\n",
    "        super().__init__()\n",
    "        self.features = nn.Sequential(\n",
    "            nn.Conv1d(1, 64, kernel_size=11, stride=4, padding=2),\n",
    "            nn.ReLU(inplace=True),\n",
    "            nn.MaxPool1d(kernel_size=3, stride=2),\n",
    "            nn.Conv1d(64, 192, kernel_size=5, padding=2),\n",
    "            nn.ReLU(inplace=True),\n",
    "            nn.MaxPool1d(kernel_size=3, stride=2),\n",
    "            nn.Conv1d(192, 384, kernel_size=3, padding=1),\n",
    "            nn.ReLU(inplace=True),\n",
    "            nn.Conv1d(384, 256, kernel_size=3, padding=1),\n",
    "            nn.ReLU(inplace=True),\n",
    "            nn.Conv1d(256, 256, kernel_size=3, padding=1),\n",
    "            nn.ReLU(inplace=True),\n",
    "            nn.MaxPool1d(kernel_size=3, stride=2),\n",
    "        )\n",
    "        self.avgpool = nn.AdaptiveAvgPool1d(6)\n",
    "        self.classifier = nn.Sequential(\n",
    "            nn.Dropout(p=dropout),\n",
    "            nn.Linear(256 * 6, 4096),\n",
    "            nn.ReLU(inplace=True),\n",
    "            nn.Dropout(p=dropout),\n",
    "            nn.Linear(4096, 4096),\n",
    "            nn.ReLU(inplace=True),\n",
    "            nn.Linear(4096, num_classes),\n",
    "        )\n",
    "\n",
    "    def forward(self, x: torch.Tensor) -> torch.Tensor:\n",
    "        x = self.features(x)\n",
    "        x = self.avgpool(x)\n",
    "        x = torch.flatten(x, 1)\n",
    "        x = self.classifier(x)\n",
    "        x = torch.flatten(x, 0)\n",
    "        return x\n"
   ]
  },
  {
   "cell_type": "markdown",
   "id": "c8a0c417",
   "metadata": {},
   "source": [
    "### dataset"
   ]
  },
  {
   "cell_type": "code",
   "execution_count": null,
   "id": "c49e6fa3",
   "metadata": {},
   "outputs": [],
   "source": [
    "class Fraud_Dataset(DS):\n",
    "    def __init__(self, X: pd.DataFrame, y: pd.DataFrame):\n",
    "        self.X = X.values.astype(np.float32)\n",
    "        self.Y = y.values.astype(np.float32)\n",
    "    \n",
    "    def __len__(self):\n",
    "        return len(self.Y)\n",
    "    \n",
    "    def __getitem__(self, idx):\n",
    "        return self.X[idx], self.Y[idx]\n"
   ]
  },
  {
   "cell_type": "markdown",
   "id": "fbb7bdc0",
   "metadata": {},
   "source": [
    "### training configuration"
   ]
  },
  {
   "cell_type": "code",
   "execution_count": null,
   "id": "12b75b61",
   "metadata": {},
   "outputs": [],
   "source": [
    "dropout = 0.5\n",
    "lr = 0.0002\n",
    "batch_size = 100\n",
    "num_classes = 1\n",
    "epochs = 100"
   ]
  },
  {
   "cell_type": "markdown",
   "id": "b74a211b",
   "metadata": {},
   "source": [
    "### training"
   ]
  },
  {
   "cell_type": "code",
   "execution_count": null,
   "id": "c27846f8",
   "metadata": {},
   "outputs": [],
   "source": [
    "train_ds = Fraud_Dataset(X_train, Y_train)\n",
    "train_dl = DL(train_ds, batch_size=batch_size, shuffle=True)\n",
    "\n",
    "AN = AlexNet(num_classes=num_classes, dropout=dropout)\n",
    "AN_opt = torch.optim.Adam(AN.parameters(), lr=lr)\n",
    "if torch.cuda.is_available():\n",
    "    AN.cuda()\n",
    "    \n",
    "sigmoid = nn.Sigmoid() # final activation\n",
    "bce = nn.BCELoss() # binary cross-entropy \n",
    "\n",
    "    \n",
    "for e in range(epochs):\n",
    "    \n",
    "    # loss data\n",
    "    loss_df = pd.DataFrame({\"loss\": []})\n",
    "    \n",
    "    for i, (X, y) in enumerate(train_dl):\n",
    "\n",
    "        if torch.cuda.is_available():\n",
    "            X = X.cuda()\n",
    "            y = y.cuda()\n",
    "        X = X.unsqueeze(1) # add a channel dimension\n",
    "        \n",
    "        AN_opt.zero_grad()\n",
    "        \n",
    "        y_probs = AN(X)\n",
    "        loss = bce(sigmoid(y_probs), y)\n",
    "        loss.backward() \n",
    "        loss_df = loss_df.append({\"loss\": loss.item()}, ignore_index=True)\n",
    "        \n",
    "        AN_opt.step()\n",
    "    if e % 5 == 0:\n",
    "        torch.save(AN.state_dict(), f\"{utils._data_pth_}/models/AN_epochs_{e}.pth\")\n",
    "        loss_df.to_csv(f\"{utils._data_pth_}/models/AN_epochs_{e}_loss.csv\")\n"
   ]
  },
  {
   "cell_type": "markdown",
   "id": "c7a7472c",
   "metadata": {},
   "source": [
    "### evaluation"
   ]
  },
  {
   "cell_type": "code",
   "execution_count": null,
   "id": "fea3af6b",
   "metadata": {},
   "outputs": [],
   "source": [
    "import Evaluation as eva\n",
    "import metrics\n",
    "from sklearn.metrics import classification_report, roc_auc_score, roc_curve, confusion_matrix\n",
    "_data_type_ = \"\"\n",
    "\n",
    "try:\n",
    "    del X_train\n",
    "    del Y_train\n",
    "except NameError:\n",
    "    pass\n",
    "\n",
    "input_X = torch.Tensor(X_test.values).unsqueeze(1)\n",
    "AN = AlexNet(num_classes=num_classes, dropout=dropout)\n",
    "# if torch.cuda.is_available():\n",
    "#     input_X = input_X.cuda()\n",
    "#     AN.cuda()\n",
    "    \n",
    "_model_state_ = torch.load(f'{utils._data_pth_}/models/{_data_type_}AN_epochs_60.pth', \"cuda\" if torch.cuda.is_available() else \"cpu\") \n",
    "AN.load_state_dict(_model_state_)\n",
    "y_pred_probs = AN(input_X).detach().numpy()\n",
    "\n",
    "metrics.roc_pr_curve(Y_test, y_pred_probs)\n",
    "y_pred_probs[y_pred_probs >= 0.5] = 1\n",
    "y_pred_probs[y_pred_probs < 0.5] = 0\n",
    "metrics.conf_matrix(Y_test,y_pred_probs)\n",
    "\n"
   ]
  },
  {
   "cell_type": "code",
   "execution_count": null,
   "id": "cf74e979",
   "metadata": {},
   "outputs": [],
   "source": [
    "%debug"
   ]
  },
  {
   "cell_type": "code",
   "execution_count": null,
   "id": "0187c859",
   "metadata": {},
   "outputs": [],
   "source": []
  }
 ],
 "metadata": {
  "kernelspec": {
   "display_name": "Python 3",
   "language": "python",
   "name": "python3"
  },
  "language_info": {
   "codemirror_mode": {
    "name": "ipython",
    "version": 3
   },
   "file_extension": ".py",
   "mimetype": "text/x-python",
   "name": "python",
   "nbconvert_exporter": "python",
   "pygments_lexer": "ipython3",
   "version": "3.7.6"
  },
  "varInspector": {
   "cols": {
    "lenName": 16,
    "lenType": 16,
    "lenVar": 40
   },
   "kernels_config": {
    "python": {
     "delete_cmd_postfix": "",
     "delete_cmd_prefix": "del ",
     "library": "var_list.py",
     "varRefreshCmd": "print(var_dic_list())"
    },
    "r": {
     "delete_cmd_postfix": ") ",
     "delete_cmd_prefix": "rm(",
     "library": "var_list.r",
     "varRefreshCmd": "cat(var_dic_list()) "
    }
   },
   "types_to_exclude": [
    "module",
    "function",
    "builtin_function_or_method",
    "instance",
    "_Feature"
   ],
   "window_display": false
  }
 },
 "nbformat": 4,
 "nbformat_minor": 5
}
