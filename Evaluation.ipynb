{
 "cells": [
  {
   "cell_type": "code",
   "execution_count": null,
   "id": "62858229",
   "metadata": {},
   "outputs": [],
   "source": [
    "import os\n",
    "import pandas as pd\n",
    "import numpy as np\n",
    "import matplotlib.pyplot as plt\n",
    "from sklearn.model_selection import train_test_split\n",
    "from sklearn.linear_model import LogisticRegression as LR\n",
    "from sklearn.metrics import classification_report, roc_auc_score, roc_curve, confusion_matrix\n",
    "from sklearn.metrics import precision_recall_curve\n",
    "import pickle\n",
    "import metrics\n",
    "\n",
    "with open('.env') as f:\n",
    "    _data_pth_ = f.readline().strip()\n",
    "    _data_pth_ = os.path.expanduser(_data_pth_)"
   ]
  },
  {
   "cell_type": "markdown",
   "id": "e938f9a8",
   "metadata": {},
   "source": [
    "### load data"
   ]
  },
  {
   "cell_type": "code",
   "execution_count": null,
   "id": "b4c15464",
   "metadata": {},
   "outputs": [],
   "source": [
    "data = pd.read_csv(f'{_data_pth_}/processed/train_joined.csv', index_col=0)\n",
    "y, X = data['isFraud'], data.drop(columns=['isFraud'])\n",
    "X_train, X_test, y_train, y_test = train_test_split(X, y, test_size=0.33)"
   ]
  },
  {
   "cell_type": "markdown",
   "id": "bd3edf19",
   "metadata": {},
   "source": [
    "### evaluate "
   ]
  },
  {
   "cell_type": "code",
   "execution_count": null,
   "id": "42d5a246",
   "metadata": {},
   "outputs": [],
   "source": [
    "def evaluate(model_name):\n",
    "    _filename_ = model_name+\".model\"\n",
    "    # Load the Model back from file\n",
    "    with open(f'../{_data_pth_}/{_filename_}', 'rb') as file:  \n",
    "        model = pickle.load(file)\n",
    "    \n",
    "    sc_train = model.score(X_train, y_train)\n",
    "    sc_test = model.score(X_test, y_test)\n",
    "    y_pred_test = model.predict(X_test)\n",
    "    probs=model.predict_proba(X_test)\n",
    "    print(sc_train)\n",
    "    print(sc_test)\n",
    "    metrics.conf_matrix(y_test,y_pred_test)\n",
    "    metrics.roc_pr_curve(y_test,probs)\n",
    "    "
   ]
  },
  {
   "cell_type": "code",
   "execution_count": null,
   "id": "6b78ce53",
   "metadata": {},
   "outputs": [],
   "source": [
    "evaluate(\"\")"
   ]
  },
  {
   "cell_type": "code",
   "execution_count": null,
   "id": "7c4dfd8c",
   "metadata": {},
   "outputs": [],
   "source": []
  }
 ],
 "metadata": {
  "kernelspec": {
   "display_name": "Python 3 (ipykernel)",
   "language": "python",
   "name": "python3"
  },
  "language_info": {
   "codemirror_mode": {
    "name": "ipython",
    "version": 3
   },
   "file_extension": ".py",
   "mimetype": "text/x-python",
   "name": "python",
   "nbconvert_exporter": "python",
   "pygments_lexer": "ipython3",
   "version": "3.9.7"
  },
  "varInspector": {
   "cols": {
    "lenName": 16,
    "lenType": 16,
    "lenVar": 40
   },
   "kernels_config": {
    "python": {
     "delete_cmd_postfix": "",
     "delete_cmd_prefix": "del ",
     "library": "var_list.py",
     "varRefreshCmd": "print(var_dic_list())"
    },
    "r": {
     "delete_cmd_postfix": ") ",
     "delete_cmd_prefix": "rm(",
     "library": "var_list.r",
     "varRefreshCmd": "cat(var_dic_list()) "
    }
   },
   "types_to_exclude": [
    "module",
    "function",
    "builtin_function_or_method",
    "instance",
    "_Feature"
   ],
   "window_display": false
  }
 },
 "nbformat": 4,
 "nbformat_minor": 5
}
