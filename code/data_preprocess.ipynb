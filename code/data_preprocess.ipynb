{
 "cells": [
  {
   "cell_type": "code",
   "execution_count": 1,
   "id": "dc3cffc7",
   "metadata": {},
   "outputs": [],
   "source": [
    "import os\n",
    "import numpy as np # linear algebra\n",
    "import pandas as pd # data processing, CSV file I/O (e.g. pd.read_csv)\n",
    "import matplotlib.pylab as plt\n",
    "from ipdb import set_trace\n",
    "\n",
    "with open('.env') as f:\n",
    "    _data_pth_ = f.readline().strip()\n",
    "    _data_pth_ = os.path.expanduser(_data_pth_)"
   ]
  },
  {
   "cell_type": "markdown",
   "id": "fff07ef7",
   "metadata": {},
   "source": [
    "### convert nominal"
   ]
  },
  {
   "cell_type": "code",
   "execution_count": 2,
   "id": "922bd2b5",
   "metadata": {
    "scrolled": false
   },
   "outputs": [],
   "source": [
    "def transform_categorical(dat: pd.DataFrame):\n",
    "    for c in dat.columns:\n",
    "        # check categorical\n",
    "        if not len(dat[[c]].std()):\n",
    "            dat[[c]] = dat[[c]].fillna(dat[[c]].mode()) # fill na with the mode category\n",
    "            uniques = dict([(v, i) for i, v in enumerate(set(dat[c]))])\n",
    "            dat[[c]] = dat[[c]].replace(uniques)"
   ]
  },
  {
   "cell_type": "markdown",
   "id": "79521013",
   "metadata": {},
   "source": [
    "### normalize numerical: clip outliers, fill nan, standardize"
   ]
  },
  {
   "cell_type": "code",
   "execution_count": 3,
   "id": "554e18f4",
   "metadata": {},
   "outputs": [],
   "source": [
    "def normalize(dat: pd.DataFrame):\n",
    "    for c in dat.columns:\n",
    "        # check numerical\n",
    "        if len(dat[[c]].std()):\n",
    "            dat[[c]] = dat[[c]].fillna(0)\n",
    "            _mean, _std = dat[[c]].mean(axis=0), dat[[c]].std(axis=0)\n",
    "            # clip outliers (3 std away)\n",
    "            lo, hi = _mean - 3*_std, _mean + 3*_std\n",
    "            dat[[c]] = dat[[c]].clip(lo.item(), hi.item())\n",
    "            # normalize\n",
    "            dat[[c]] = (dat[[c]] - _mean) / _std"
   ]
  },
  {
   "cell_type": "markdown",
   "id": "4af98d55",
   "metadata": {},
   "source": [
    "### preprocess and save"
   ]
  },
  {
   "cell_type": "code",
   "execution_count": 4,
   "id": "d5d740d5",
   "metadata": {
    "scrolled": false
   },
   "outputs": [
    {
     "name": "stdout",
     "output_type": "stream",
     "text": [
      "> \u001b[0;32m/tmp/ipykernel_33588/3138857347.py\u001b[0m(19)\u001b[0;36m<module>\u001b[0;34m()\u001b[0m\n",
      "\u001b[0;32m     18 \u001b[0;31m        \u001b[0mset_trace\u001b[0m\u001b[0;34m(\u001b[0m\u001b[0;34m)\u001b[0m\u001b[0;34m\u001b[0m\u001b[0;34m\u001b[0m\u001b[0m\n",
      "\u001b[0m\u001b[0;32m---> 19 \u001b[0;31m        \u001b[0mmat\u001b[0m\u001b[0;34m.\u001b[0m\u001b[0mto_csv\u001b[0m\u001b[0;34m(\u001b[0m\u001b[0;34mf'{_data_pth_}/processed/{x}'\u001b[0m\u001b[0;34m,\u001b[0m \u001b[0mindex\u001b[0m\u001b[0;34m=\u001b[0m\u001b[0;32mFalse\u001b[0m\u001b[0;34m)\u001b[0m\u001b[0;34m\u001b[0m\u001b[0;34m\u001b[0m\u001b[0m\n",
      "\u001b[0m\u001b[0;32m     20 \u001b[0;31m        \u001b[0;32mdel\u001b[0m \u001b[0mmat\u001b[0m\u001b[0;34m\u001b[0m\u001b[0;34m\u001b[0m\u001b[0m\n",
      "\u001b[0m\n",
      "ipdb> mat\n",
      "        TransactionID  isFraud  TransactionDT  TransactionAmt  ProductCD  \\\n",
      "0             2987000        0      -1.577985       -0.278167   0.039657   \n",
      "1             2987001        0      -1.577985       -0.443327   0.039657   \n",
      "2             2987002        0      -1.577970       -0.317889   0.039657   \n",
      "3             2987003        0      -1.577964       -0.355520   0.039657   \n",
      "4             2987004        0      -1.577962       -0.355520  -1.367161   \n",
      "...               ...      ...            ...             ...        ...   \n",
      "590535        3577535        0       1.827664       -0.359702   0.039657   \n",
      "590536        3577536        0       1.827665       -0.399424   0.039657   \n",
      "590537        3577537        0       1.827671       -0.435173   0.039657   \n",
      "590538        3577538        0       1.827673       -0.075376   0.039657   \n",
      "590539        3577539        0       1.827683        0.605960   0.039657   \n",
      "\n",
      "           card1     card2     card3     card4     card5  ...      V330  \\\n",
      "0       0.821695 -2.194284 -0.202222 -1.717204 -1.257117  ... -0.060583   \n",
      "1      -1.457557  0.288388 -0.202222  1.427232 -2.157603  ... -0.060583   \n",
      "2      -1.068262  0.816878 -0.202222 -0.669058 -0.716825  ... -0.060583   \n",
      "3       1.679857  1.290061 -0.202222  1.427232 -1.819920  ... -0.060583   \n",
      "4      -1.102132  0.964363 -0.202222  1.427232 -2.157603  ... -0.060583   \n",
      "...          ...       ...       ...       ...       ...  ...       ...   \n",
      "590535 -0.683252 -2.194284 -0.202222 -0.669058  0.633904  ... -0.060583   \n",
      "590536  0.111252 -0.811608 -0.202222  1.427232  0.588880  ... -0.060583   \n",
      "590537  0.436276  1.462127 -0.202222  1.427232  0.588880  ... -0.060583   \n",
      "590538 -0.422906  0.761571 -0.202222  1.427232  0.588880  ... -0.060583   \n",
      "590539  1.054292 -1.149595 -0.202222  1.427232 -2.157603  ... -0.060583   \n",
      "\n",
      "            V331    V332      V333      V334      V335      V336     V337  \\\n",
      "0      -0.043102 -0.0457 -0.047295 -0.015007 -0.056435 -0.038624 -0.03083   \n",
      "1      -0.043102 -0.0457 -0.047295 -0.015007 -0.056435 -0.038624 -0.03083   \n",
      "2      -0.043102 -0.0457 -0.047295 -0.015007 -0.056435 -0.038624 -0.03083   \n",
      "3      -0.043102 -0.0457 -0.047295 -0.015007 -0.056435 -0.038624 -0.03083   \n",
      "4      -0.043102 -0.0457 -0.047295 -0.015007 -0.056435 -0.038624 -0.03083   \n",
      "...          ...     ...       ...       ...       ...       ...      ...   \n",
      "590535 -0.043102 -0.0457 -0.047295 -0.015007 -0.056435 -0.038624 -0.03083   \n",
      "590536 -0.043102 -0.0457 -0.047295 -0.015007 -0.056435 -0.038624 -0.03083   \n",
      "590537 -0.043102 -0.0457 -0.047295 -0.015007 -0.056435 -0.038624 -0.03083   \n",
      "590538 -0.043102 -0.0457 -0.047295 -0.015007 -0.056435 -0.038624 -0.03083   \n",
      "590539 -0.043102 -0.0457 -0.047295 -0.015007 -0.056435 -0.038624 -0.03083   \n",
      "\n",
      "            V338      V339  \n",
      "0      -0.051132 -0.045844  \n",
      "1      -0.051132 -0.045844  \n",
      "2      -0.051132 -0.045844  \n",
      "3      -0.051132 -0.045844  \n",
      "4      -0.051132 -0.045844  \n",
      "...          ...       ...  \n",
      "590535 -0.051132 -0.045844  \n",
      "590536 -0.051132 -0.045844  \n",
      "590537 -0.051132 -0.045844  \n",
      "590538 -0.051132 -0.045844  \n",
      "590539 -0.051132 -0.045844  \n",
      "\n",
      "[590540 rows x 394 columns]\n",
      "ipdb> c\n",
      "> \u001b[0;32m/tmp/ipykernel_33588/3138857347.py\u001b[0m(18)\u001b[0;36m<module>\u001b[0;34m()\u001b[0m\n",
      "\u001b[0;32m     17 \u001b[0;31m        \u001b[0mmat\u001b[0m \u001b[0;34m=\u001b[0m \u001b[0mpd\u001b[0m\u001b[0;34m.\u001b[0m\u001b[0mconcat\u001b[0m\u001b[0;34m(\u001b[0m\u001b[0;34m(\u001b[0m\u001b[0m_ids\u001b[0m\u001b[0;34m,\u001b[0m \u001b[0m_labels\u001b[0m\u001b[0;34m,\u001b[0m \u001b[0mmat\u001b[0m\u001b[0;34m)\u001b[0m\u001b[0;34m,\u001b[0m \u001b[0maxis\u001b[0m\u001b[0;34m=\u001b[0m\u001b[0;36m1\u001b[0m\u001b[0;34m)\u001b[0m\u001b[0;34m\u001b[0m\u001b[0;34m\u001b[0m\u001b[0m\n",
      "\u001b[0m\u001b[0;32m---> 18 \u001b[0;31m        \u001b[0mset_trace\u001b[0m\u001b[0;34m(\u001b[0m\u001b[0;34m)\u001b[0m\u001b[0;34m\u001b[0m\u001b[0;34m\u001b[0m\u001b[0m\n",
      "\u001b[0m\u001b[0;32m     19 \u001b[0;31m        \u001b[0mmat\u001b[0m\u001b[0;34m.\u001b[0m\u001b[0mto_csv\u001b[0m\u001b[0;34m(\u001b[0m\u001b[0;34mf'{_data_pth_}/processed/{x}'\u001b[0m\u001b[0;34m,\u001b[0m \u001b[0mindex\u001b[0m\u001b[0;34m=\u001b[0m\u001b[0;32mFalse\u001b[0m\u001b[0;34m)\u001b[0m\u001b[0;34m\u001b[0m\u001b[0;34m\u001b[0m\u001b[0m\n",
      "\u001b[0m\n",
      "ipdb> c\n",
      "> \u001b[0;32m/tmp/ipykernel_33588/3138857347.py\u001b[0m(19)\u001b[0;36m<module>\u001b[0;34m()\u001b[0m\n",
      "\u001b[0;32m     18 \u001b[0;31m        \u001b[0mset_trace\u001b[0m\u001b[0;34m(\u001b[0m\u001b[0;34m)\u001b[0m\u001b[0;34m\u001b[0m\u001b[0;34m\u001b[0m\u001b[0m\n",
      "\u001b[0m\u001b[0;32m---> 19 \u001b[0;31m        \u001b[0mmat\u001b[0m\u001b[0;34m.\u001b[0m\u001b[0mto_csv\u001b[0m\u001b[0;34m(\u001b[0m\u001b[0;34mf'{_data_pth_}/processed/{x}'\u001b[0m\u001b[0;34m,\u001b[0m \u001b[0mindex\u001b[0m\u001b[0;34m=\u001b[0m\u001b[0;32mFalse\u001b[0m\u001b[0;34m)\u001b[0m\u001b[0;34m\u001b[0m\u001b[0;34m\u001b[0m\u001b[0m\n",
      "\u001b[0m\u001b[0;32m     20 \u001b[0;31m        \u001b[0;32mdel\u001b[0m \u001b[0mmat\u001b[0m\u001b[0;34m\u001b[0m\u001b[0;34m\u001b[0m\u001b[0m\n",
      "\u001b[0m\n",
      "ipdb> c\n",
      "> \u001b[0;32m/tmp/ipykernel_33588/3138857347.py\u001b[0m(18)\u001b[0;36m<module>\u001b[0;34m()\u001b[0m\n",
      "\u001b[0;32m     17 \u001b[0;31m        \u001b[0mmat\u001b[0m \u001b[0;34m=\u001b[0m \u001b[0mpd\u001b[0m\u001b[0;34m.\u001b[0m\u001b[0mconcat\u001b[0m\u001b[0;34m(\u001b[0m\u001b[0;34m(\u001b[0m\u001b[0m_ids\u001b[0m\u001b[0;34m,\u001b[0m \u001b[0m_labels\u001b[0m\u001b[0;34m,\u001b[0m \u001b[0mmat\u001b[0m\u001b[0;34m)\u001b[0m\u001b[0;34m,\u001b[0m \u001b[0maxis\u001b[0m\u001b[0;34m=\u001b[0m\u001b[0;36m1\u001b[0m\u001b[0;34m)\u001b[0m\u001b[0;34m\u001b[0m\u001b[0;34m\u001b[0m\u001b[0m\n",
      "\u001b[0m\u001b[0;32m---> 18 \u001b[0;31m        \u001b[0mset_trace\u001b[0m\u001b[0;34m(\u001b[0m\u001b[0;34m)\u001b[0m\u001b[0;34m\u001b[0m\u001b[0;34m\u001b[0m\u001b[0m\n",
      "\u001b[0m\u001b[0;32m     19 \u001b[0;31m        \u001b[0mmat\u001b[0m\u001b[0;34m.\u001b[0m\u001b[0mto_csv\u001b[0m\u001b[0;34m(\u001b[0m\u001b[0;34mf'{_data_pth_}/processed/{x}'\u001b[0m\u001b[0;34m,\u001b[0m \u001b[0mindex\u001b[0m\u001b[0;34m=\u001b[0m\u001b[0;32mFalse\u001b[0m\u001b[0;34m)\u001b[0m\u001b[0;34m\u001b[0m\u001b[0;34m\u001b[0m\u001b[0m\n",
      "\u001b[0m\n",
      "ipdb> c\n"
     ]
    }
   ],
   "source": [
    "if not os.path.exists(f'{_data_pth_}/processed/'):\n",
    "    os.mkdir(f'{_data_pth_}/processed/')\n",
    "    \n",
    "for x in ['train_transaction.csv', 'test_transaction.csv', 'test_identity.csv','train_identity.csv', ]:\n",
    "    if not os.path.exists(f'{_data_pth_}/processed/{x}'):\n",
    "        \n",
    "        mat = pd.read_csv(f'{_data_pth_}/{x}')\n",
    "        # remove ID\n",
    "        if 'TransactionID' in mat.columns:\n",
    "            _ids = mat['TransactionID']\n",
    "            mat.drop(columns=['TransactionID'], inplace=True)\n",
    "        if 'isFraud' in mat.columns:\n",
    "            _labels = mat['isFraud']\n",
    "            mat.drop(columns=['isFraud'], inplace=True)\n",
    "        transform_categorical(mat)\n",
    "        normalize(mat)\n",
    "        mat = pd.concat((_ids, _labels, mat), axis=1)\n",
    "        set_trace()\n",
    "        mat.to_csv(f'{_data_pth_}/processed/{x}', index=False)\n",
    "        del mat"
   ]
  },
  {
   "cell_type": "code",
   "execution_count": null,
   "id": "12670a27",
   "metadata": {},
   "outputs": [],
   "source": []
  }
 ],
 "metadata": {
  "kernelspec": {
   "display_name": "Python 3",
   "language": "python",
   "name": "python3"
  },
  "language_info": {
   "codemirror_mode": {
    "name": "ipython",
    "version": 3
   },
   "file_extension": ".py",
   "mimetype": "text/x-python",
   "name": "python",
   "nbconvert_exporter": "python",
   "pygments_lexer": "ipython3",
   "version": "3.7.6"
  },
  "varInspector": {
   "cols": {
    "lenName": 16,
    "lenType": 16,
    "lenVar": 40
   },
   "kernels_config": {
    "python": {
     "delete_cmd_postfix": "",
     "delete_cmd_prefix": "del ",
     "library": "var_list.py",
     "varRefreshCmd": "print(var_dic_list())"
    },
    "r": {
     "delete_cmd_postfix": ") ",
     "delete_cmd_prefix": "rm(",
     "library": "var_list.r",
     "varRefreshCmd": "cat(var_dic_list()) "
    }
   },
   "types_to_exclude": [
    "module",
    "function",
    "builtin_function_or_method",
    "instance",
    "_Feature"
   ],
   "window_display": false
  }
 },
 "nbformat": 4,
 "nbformat_minor": 5
}
