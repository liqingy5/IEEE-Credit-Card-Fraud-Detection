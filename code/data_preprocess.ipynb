{
 "cells": [
  {
   "cell_type": "code",
   "execution_count": 1,
   "id": "dc3cffc7",
   "metadata": {},
   "outputs": [],
   "source": [
    "import os\n",
    "import numpy as np # linear algebra\n",
    "import pandas as pd # data processing, CSV file I/O (e.g. pd.read_csv)\n",
    "import matplotlib.pylab as plt\n",
    "from ipdb import set_trace\n",
    "\n",
    "\n",
    "_data_pth_ = os.path.expanduser('~/ieee-fraud-detection')"
   ]
  },
  {
   "cell_type": "markdown",
   "id": "fff07ef7",
   "metadata": {},
   "source": [
    "### process nominal"
   ]
  },
  {
   "cell_type": "code",
   "execution_count": 2,
   "id": "922bd2b5",
   "metadata": {
    "scrolled": false
   },
   "outputs": [],
   "source": [
    "def transform_categorical(dat: pd.DataFrame):\n",
    "    for c in dat.columns:\n",
    "        # check categorical\n",
    "        if not len(dat[[c]].std()):\n",
    "            dat[[c]] = dat[[c]].fillna(dat[[c]].mode()) # fill na with the mode category\n",
    "            uniques = dict([(v, i) for i, v in enumerate(set(dat[c]))])\n",
    "            dat[[c]] = dat[[c]].replace(uniques)"
   ]
  },
  {
   "cell_type": "markdown",
   "id": "79521013",
   "metadata": {},
   "source": [
    "### normalize numerical: remove ID, clip outliers, fill nan, standardize"
   ]
  },
  {
   "cell_type": "code",
   "execution_count": 3,
   "id": "554e18f4",
   "metadata": {},
   "outputs": [],
   "source": [
    "def normalize(dat: pd.DataFrame):\n",
    "    if 'TransactionID' in dat.columns:\n",
    "        dat.drop(columns=['TransactionID'], inplace=True)\n",
    "    for c in dat.columns:\n",
    "        # check numerical\n",
    "        if len(dat[[c]].std()):\n",
    "            dat[[c]] = dat[[c]].fillna(0)\n",
    "            _mean, _std = dat[[c]].mean(axis=0), dat[[c]].std(axis=0)\n",
    "            # clip outliers (3 std away)\n",
    "            lo, hi = _mean - 3*_std, _mean + 3*_std\n",
    "            dat[[c]] = dat[[c]].clip(lo.item(), hi.item())\n",
    "            # normalize\n",
    "            dat[[c]] = (dat[[c]] - _mean) / _std"
   ]
  },
  {
   "cell_type": "markdown",
   "id": "4af98d55",
   "metadata": {},
   "source": [
    "### preprocess and save"
   ]
  },
  {
   "cell_type": "code",
   "execution_count": 6,
   "id": "d5d740d5",
   "metadata": {
    "scrolled": false
   },
   "outputs": [],
   "source": [
    "if not os.path.exists(f'{_data_pth_}/processed/'):\n",
    "    os.mkdir(f'{_data_pth_}/processed/')\n",
    "    \n",
    "for x in ['train_transaction.csv', 'test_identity.csv', 'test_transaction.csv', 'train_identity.csv']:\n",
    "    if not os.path.exists(f'{_data_pth_}/processed/{x}'):\n",
    "        mat = pd.read_csv(f'{_data_pth_}/{x}')\n",
    "        transform_categorical(mat)\n",
    "        normalize(mat)\n",
    "        mat.to_csv(f'{_data_pth_}/processed/{x}', index=False)\n",
    "        del mat\n",
    "    \n"
   ]
  },
  {
   "cell_type": "code",
   "execution_count": null,
   "id": "7e1c2576",
   "metadata": {},
   "outputs": [],
   "source": [
    "%debug"
   ]
  },
  {
   "cell_type": "code",
   "execution_count": null,
   "id": "dc1e074d",
   "metadata": {},
   "outputs": [],
   "source": [
    "_data_pth_"
   ]
  },
  {
   "cell_type": "code",
   "execution_count": null,
   "id": "6aa57167",
   "metadata": {},
   "outputs": [],
   "source": []
  }
 ],
 "metadata": {
  "kernelspec": {
   "display_name": "Python 3",
   "language": "python",
   "name": "python3"
  },
  "language_info": {
   "codemirror_mode": {
    "name": "ipython",
    "version": 3
   },
   "file_extension": ".py",
   "mimetype": "text/x-python",
   "name": "python",
   "nbconvert_exporter": "python",
   "pygments_lexer": "ipython3",
   "version": "3.8.8"
  }
 },
 "nbformat": 4,
 "nbformat_minor": 5
}
