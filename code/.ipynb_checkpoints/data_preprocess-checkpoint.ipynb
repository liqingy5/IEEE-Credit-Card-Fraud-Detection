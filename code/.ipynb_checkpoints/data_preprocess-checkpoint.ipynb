{
 "cells": [
  {
   "cell_type": "code",
   "execution_count": 1,
   "id": "dc3cffc7",
   "metadata": {},
   "outputs": [],
   "source": [
    "import os\n",
    "import numpy as np # linear algebra\n",
    "import pandas as pd # data processing, CSV file I/O (e.g. pd.read_csv)\n",
    "import matplotlib.pylab as plt\n",
    "from ipdb import set_trace\n",
    "\n",
    "with open('.env') as f:\n",
    "    _data_pth_ = f.readline().strip()\n",
    "    _data_pth_ = os.path.expanduser(_data_pth_)"
   ]
  },
  {
   "cell_type": "markdown",
   "id": "fff07ef7",
   "metadata": {},
   "source": [
    "### convert nominal"
   ]
  },
  {
   "cell_type": "code",
   "execution_count": 2,
   "id": "922bd2b5",
   "metadata": {
    "scrolled": false
   },
   "outputs": [],
   "source": [
    "def transform_categorical(dat: pd.DataFrame):\n",
    "    for c in dat.columns:\n",
    "        # check categorical\n",
    "        if not len(dat[[c]].std()):\n",
    "            dat[[c]] = dat[[c]].fillna(dat[[c]].mode()) # fill na with the mode category\n",
    "            uniques = dict([(v, i) for i, v in enumerate(set(dat[c]))])\n",
    "            dat[[c]] = dat[[c]].replace(uniques)"
   ]
  },
  {
   "cell_type": "markdown",
   "id": "79521013",
   "metadata": {},
   "source": [
    "### normalize numerical: clip outliers, fill nan, standardize"
   ]
  },
  {
   "cell_type": "code",
   "execution_count": 3,
   "id": "554e18f4",
   "metadata": {},
   "outputs": [],
   "source": [
    "def normalize(dat: pd.DataFrame):\n",
    "    for c in dat.columns:\n",
    "        # check numerical\n",
    "        if len(dat[[c]].std()):\n",
    "            dat[[c]] = dat[[c]].fillna(0)\n",
    "            _mean, _std = dat[[c]].mean(axis=0), dat[[c]].std(axis=0)\n",
    "            # clip outliers (3 std away)\n",
    "            lo, hi = _mean - 3*_std, _mean + 3*_std\n",
    "            dat[[c]] = dat[[c]].clip(lo.item(), hi.item())\n",
    "            # normalize\n",
    "            dat[[c]] = (dat[[c]] - _mean) / _std"
   ]
  },
  {
   "cell_type": "markdown",
   "id": "4af98d55",
   "metadata": {},
   "source": [
    "### preprocess and save"
   ]
  },
  {
   "cell_type": "code",
   "execution_count": 7,
   "id": "d5d740d5",
   "metadata": {
    "scrolled": false
   },
   "outputs": [
    {
     "name": "stdout",
     "output_type": "stream",
     "text": [
      "> \u001b[0;32m/tmp/ipykernel_33566/277946546.py\u001b[0m(13)\u001b[0;36m<module>\u001b[0;34m()\u001b[0m\n",
      "\u001b[0;32m     12 \u001b[0;31m        \u001b[0mset_trace\u001b[0m\u001b[0;34m(\u001b[0m\u001b[0;34m)\u001b[0m\u001b[0;34m\u001b[0m\u001b[0;34m\u001b[0m\u001b[0m\n",
      "\u001b[0m\u001b[0;32m---> 13 \u001b[0;31m        \u001b[0mtransform_categorical\u001b[0m\u001b[0;34m(\u001b[0m\u001b[0mmat\u001b[0m\u001b[0;34m)\u001b[0m\u001b[0;34m\u001b[0m\u001b[0;34m\u001b[0m\u001b[0m\n",
      "\u001b[0m\u001b[0;32m     14 \u001b[0;31m        \u001b[0mnormalize\u001b[0m\u001b[0;34m(\u001b[0m\u001b[0mmat\u001b[0m\u001b[0;34m)\u001b[0m\u001b[0;34m\u001b[0m\u001b[0;34m\u001b[0m\u001b[0m\n",
      "\u001b[0m\n",
      "ipdb> mat.column\n",
      "*** AttributeError: 'DataFrame' object has no attribute 'column'\n",
      "ipdb> mat\n",
      "        isFraud  TransactionDT  TransactionAmt ProductCD  card1  card2  card3  \\\n",
      "0             0          86400           68.50         W  13926    NaN  150.0   \n",
      "1             0          86401           29.00         W   2755  404.0  150.0   \n",
      "2             0          86469           59.00         W   4663  490.0  150.0   \n",
      "3             0          86499           50.00         W  18132  567.0  150.0   \n",
      "4             0          86506           50.00         H   4497  514.0  150.0   \n",
      "...         ...            ...             ...       ...    ...    ...    ...   \n",
      "590535        0       15811047           49.00         W   6550    NaN  150.0   \n",
      "590536        0       15811049           39.50         W  10444  225.0  150.0   \n",
      "590537        0       15811079           30.95         W  12037  595.0  150.0   \n",
      "590538        0       15811088          117.00         W   7826  481.0  150.0   \n",
      "590539        0       15811131          279.95         W  15066  170.0  150.0   \n",
      "\n",
      "             card4  card5   card6  ...  V330  V331  V332  V333 V334 V335  \\\n",
      "0         discover  142.0  credit  ...   NaN   NaN   NaN   NaN  NaN  NaN   \n",
      "1       mastercard  102.0  credit  ...   NaN   NaN   NaN   NaN  NaN  NaN   \n",
      "2             visa  166.0   debit  ...   NaN   NaN   NaN   NaN  NaN  NaN   \n",
      "3       mastercard  117.0   debit  ...   NaN   NaN   NaN   NaN  NaN  NaN   \n",
      "4       mastercard  102.0  credit  ...   0.0   0.0   0.0   0.0  0.0  0.0   \n",
      "...            ...    ...     ...  ...   ...   ...   ...   ...  ...  ...   \n",
      "590535        visa  226.0   debit  ...   NaN   NaN   NaN   NaN  NaN  NaN   \n",
      "590536  mastercard  224.0   debit  ...   NaN   NaN   NaN   NaN  NaN  NaN   \n",
      "590537  mastercard  224.0   debit  ...   NaN   NaN   NaN   NaN  NaN  NaN   \n",
      "590538  mastercard  224.0   debit  ...   NaN   NaN   NaN   NaN  NaN  NaN   \n",
      "590539  mastercard  102.0  credit  ...   NaN   NaN   NaN   NaN  NaN  NaN   \n",
      "\n",
      "        V336  V337  V338  V339  \n",
      "0        NaN   NaN   NaN   NaN  \n",
      "1        NaN   NaN   NaN   NaN  \n",
      "2        NaN   NaN   NaN   NaN  \n",
      "3        NaN   NaN   NaN   NaN  \n",
      "4        0.0   0.0   0.0   0.0  \n",
      "...      ...   ...   ...   ...  \n",
      "590535   NaN   NaN   NaN   NaN  \n",
      "590536   NaN   NaN   NaN   NaN  \n",
      "590537   NaN   NaN   NaN   NaN  \n",
      "590538   NaN   NaN   NaN   NaN  \n",
      "590539   NaN   NaN   NaN   NaN  \n",
      "\n",
      "[590540 rows x 393 columns]\n",
      "ipdb> set(mat.isFraud)\n",
      "{0, 1}\n",
      "ipdb> exit\n"
     ]
    },
    {
     "ename": "BdbQuit",
     "evalue": "",
     "output_type": "error",
     "traceback": [
      "\u001b[0;31m---------------------------------------------------------------------------\u001b[0m",
      "\u001b[0;31mBdbQuit\u001b[0m                                   Traceback (most recent call last)",
      "\u001b[0;32m/tmp/ipykernel_33566/277946546.py\u001b[0m in \u001b[0;36m<module>\u001b[0;34m\u001b[0m\n\u001b[1;32m     11\u001b[0m             \u001b[0mmat\u001b[0m\u001b[0;34m.\u001b[0m\u001b[0mdrop\u001b[0m\u001b[0;34m(\u001b[0m\u001b[0mcolumns\u001b[0m\u001b[0;34m=\u001b[0m\u001b[0;34m[\u001b[0m\u001b[0;34m'TransactionID'\u001b[0m\u001b[0;34m]\u001b[0m\u001b[0;34m,\u001b[0m \u001b[0minplace\u001b[0m\u001b[0;34m=\u001b[0m\u001b[0;32mTrue\u001b[0m\u001b[0;34m)\u001b[0m\u001b[0;34m\u001b[0m\u001b[0;34m\u001b[0m\u001b[0m\n\u001b[1;32m     12\u001b[0m         \u001b[0mset_trace\u001b[0m\u001b[0;34m(\u001b[0m\u001b[0;34m)\u001b[0m\u001b[0;34m\u001b[0m\u001b[0;34m\u001b[0m\u001b[0m\n\u001b[0;32m---> 13\u001b[0;31m         \u001b[0mtransform_categorical\u001b[0m\u001b[0;34m(\u001b[0m\u001b[0mmat\u001b[0m\u001b[0;34m)\u001b[0m\u001b[0;34m\u001b[0m\u001b[0;34m\u001b[0m\u001b[0m\n\u001b[0m\u001b[1;32m     14\u001b[0m         \u001b[0mnormalize\u001b[0m\u001b[0;34m(\u001b[0m\u001b[0mmat\u001b[0m\u001b[0;34m)\u001b[0m\u001b[0;34m\u001b[0m\u001b[0;34m\u001b[0m\u001b[0m\n\u001b[1;32m     15\u001b[0m         \u001b[0mmat\u001b[0m\u001b[0;34m.\u001b[0m\u001b[0mto_csv\u001b[0m\u001b[0;34m(\u001b[0m\u001b[0;34mf'{_data_pth_}/processed/{x}'\u001b[0m\u001b[0;34m,\u001b[0m \u001b[0mindex\u001b[0m\u001b[0;34m=\u001b[0m\u001b[0;32mFalse\u001b[0m\u001b[0;34m)\u001b[0m\u001b[0;34m\u001b[0m\u001b[0;34m\u001b[0m\u001b[0m\n",
      "\u001b[0;32m/tmp/ipykernel_33566/277946546.py\u001b[0m in \u001b[0;36m<module>\u001b[0;34m\u001b[0m\n\u001b[1;32m     11\u001b[0m             \u001b[0mmat\u001b[0m\u001b[0;34m.\u001b[0m\u001b[0mdrop\u001b[0m\u001b[0;34m(\u001b[0m\u001b[0mcolumns\u001b[0m\u001b[0;34m=\u001b[0m\u001b[0;34m[\u001b[0m\u001b[0;34m'TransactionID'\u001b[0m\u001b[0;34m]\u001b[0m\u001b[0;34m,\u001b[0m \u001b[0minplace\u001b[0m\u001b[0;34m=\u001b[0m\u001b[0;32mTrue\u001b[0m\u001b[0;34m)\u001b[0m\u001b[0;34m\u001b[0m\u001b[0;34m\u001b[0m\u001b[0m\n\u001b[1;32m     12\u001b[0m         \u001b[0mset_trace\u001b[0m\u001b[0;34m(\u001b[0m\u001b[0;34m)\u001b[0m\u001b[0;34m\u001b[0m\u001b[0;34m\u001b[0m\u001b[0m\n\u001b[0;32m---> 13\u001b[0;31m         \u001b[0mtransform_categorical\u001b[0m\u001b[0;34m(\u001b[0m\u001b[0mmat\u001b[0m\u001b[0;34m)\u001b[0m\u001b[0;34m\u001b[0m\u001b[0;34m\u001b[0m\u001b[0m\n\u001b[0m\u001b[1;32m     14\u001b[0m         \u001b[0mnormalize\u001b[0m\u001b[0;34m(\u001b[0m\u001b[0mmat\u001b[0m\u001b[0;34m)\u001b[0m\u001b[0;34m\u001b[0m\u001b[0;34m\u001b[0m\u001b[0m\n\u001b[1;32m     15\u001b[0m         \u001b[0mmat\u001b[0m\u001b[0;34m.\u001b[0m\u001b[0mto_csv\u001b[0m\u001b[0;34m(\u001b[0m\u001b[0;34mf'{_data_pth_}/processed/{x}'\u001b[0m\u001b[0;34m,\u001b[0m \u001b[0mindex\u001b[0m\u001b[0;34m=\u001b[0m\u001b[0;32mFalse\u001b[0m\u001b[0;34m)\u001b[0m\u001b[0;34m\u001b[0m\u001b[0;34m\u001b[0m\u001b[0m\n",
      "\u001b[0;32m/usr/local/miniconda3/lib/python3.7/bdb.py\u001b[0m in \u001b[0;36mtrace_dispatch\u001b[0;34m(self, frame, event, arg)\u001b[0m\n\u001b[1;32m     86\u001b[0m             \u001b[0;32mreturn\u001b[0m \u001b[0;31m# None\u001b[0m\u001b[0;34m\u001b[0m\u001b[0;34m\u001b[0m\u001b[0m\n\u001b[1;32m     87\u001b[0m         \u001b[0;32mif\u001b[0m \u001b[0mevent\u001b[0m \u001b[0;34m==\u001b[0m \u001b[0;34m'line'\u001b[0m\u001b[0;34m:\u001b[0m\u001b[0;34m\u001b[0m\u001b[0;34m\u001b[0m\u001b[0m\n\u001b[0;32m---> 88\u001b[0;31m             \u001b[0;32mreturn\u001b[0m \u001b[0mself\u001b[0m\u001b[0;34m.\u001b[0m\u001b[0mdispatch_line\u001b[0m\u001b[0;34m(\u001b[0m\u001b[0mframe\u001b[0m\u001b[0;34m)\u001b[0m\u001b[0;34m\u001b[0m\u001b[0;34m\u001b[0m\u001b[0m\n\u001b[0m\u001b[1;32m     89\u001b[0m         \u001b[0;32mif\u001b[0m \u001b[0mevent\u001b[0m \u001b[0;34m==\u001b[0m \u001b[0;34m'call'\u001b[0m\u001b[0;34m:\u001b[0m\u001b[0;34m\u001b[0m\u001b[0;34m\u001b[0m\u001b[0m\n\u001b[1;32m     90\u001b[0m             \u001b[0;32mreturn\u001b[0m \u001b[0mself\u001b[0m\u001b[0;34m.\u001b[0m\u001b[0mdispatch_call\u001b[0m\u001b[0;34m(\u001b[0m\u001b[0mframe\u001b[0m\u001b[0;34m,\u001b[0m \u001b[0marg\u001b[0m\u001b[0;34m)\u001b[0m\u001b[0;34m\u001b[0m\u001b[0;34m\u001b[0m\u001b[0m\n",
      "\u001b[0;32m/usr/local/miniconda3/lib/python3.7/bdb.py\u001b[0m in \u001b[0;36mdispatch_line\u001b[0;34m(self, frame)\u001b[0m\n\u001b[1;32m    111\u001b[0m         \u001b[0;32mif\u001b[0m \u001b[0mself\u001b[0m\u001b[0;34m.\u001b[0m\u001b[0mstop_here\u001b[0m\u001b[0;34m(\u001b[0m\u001b[0mframe\u001b[0m\u001b[0;34m)\u001b[0m \u001b[0;32mor\u001b[0m \u001b[0mself\u001b[0m\u001b[0;34m.\u001b[0m\u001b[0mbreak_here\u001b[0m\u001b[0;34m(\u001b[0m\u001b[0mframe\u001b[0m\u001b[0;34m)\u001b[0m\u001b[0;34m:\u001b[0m\u001b[0;34m\u001b[0m\u001b[0;34m\u001b[0m\u001b[0m\n\u001b[1;32m    112\u001b[0m             \u001b[0mself\u001b[0m\u001b[0;34m.\u001b[0m\u001b[0muser_line\u001b[0m\u001b[0;34m(\u001b[0m\u001b[0mframe\u001b[0m\u001b[0;34m)\u001b[0m\u001b[0;34m\u001b[0m\u001b[0;34m\u001b[0m\u001b[0m\n\u001b[0;32m--> 113\u001b[0;31m             \u001b[0;32mif\u001b[0m \u001b[0mself\u001b[0m\u001b[0;34m.\u001b[0m\u001b[0mquitting\u001b[0m\u001b[0;34m:\u001b[0m \u001b[0;32mraise\u001b[0m \u001b[0mBdbQuit\u001b[0m\u001b[0;34m\u001b[0m\u001b[0;34m\u001b[0m\u001b[0m\n\u001b[0m\u001b[1;32m    114\u001b[0m         \u001b[0;32mreturn\u001b[0m \u001b[0mself\u001b[0m\u001b[0;34m.\u001b[0m\u001b[0mtrace_dispatch\u001b[0m\u001b[0;34m\u001b[0m\u001b[0;34m\u001b[0m\u001b[0m\n\u001b[1;32m    115\u001b[0m \u001b[0;34m\u001b[0m\u001b[0m\n",
      "\u001b[0;31mBdbQuit\u001b[0m: "
     ]
    }
   ],
   "source": [
    "if not os.path.exists(f'{_data_pth_}/processed/'):\n",
    "    os.mkdir(f'{_data_pth_}/processed/')\n",
    "    \n",
    "for x in ['train_transaction.csv', 'test_transaction.csv', 'test_identity.csv','train_identity.csv', ]:\n",
    "    if not os.path.exists(f'{_data_pth_}/processed/{x}'):\n",
    "        \n",
    "        mat = pd.read_csv(f'{_data_pth_}/{x}')\n",
    "        # remove ID\n",
    "        if 'TransactionID' in mat.columns:\n",
    "            _ids = mat['TransactionID']\n",
    "            mat.drop(columns=['TransactionID'], inplace=True)\n",
    "        if 'isFraud' in mat.columns:\n",
    "            _labels = mat['isFraud']\n",
    "            mat.drop(columns=['isFraud'], inplace=True)\n",
    "        transform_categorical(mat)\n",
    "        normalize(mat)\n",
    "        mat = pd.concat((_ids, _labels, mat), axis=1)\n",
    "        set_trace()\n",
    "        mat.to_csv(f'{_data_pth_}/processed/{x}', index=False)\n",
    "        del mat"
   ]
  },
  {
   "cell_type": "code",
   "execution_count": null,
   "id": "2f2f54ca",
   "metadata": {},
   "outputs": [],
   "source": []
  }
 ],
 "metadata": {
  "kernelspec": {
   "display_name": "Python 3",
   "language": "python",
   "name": "python3"
  },
  "language_info": {
   "codemirror_mode": {
    "name": "ipython",
    "version": 3
   },
   "file_extension": ".py",
   "mimetype": "text/x-python",
   "name": "python",
   "nbconvert_exporter": "python",
   "pygments_lexer": "ipython3",
   "version": "3.7.6"
  },
  "varInspector": {
   "cols": {
    "lenName": 16,
    "lenType": 16,
    "lenVar": 40
   },
   "kernels_config": {
    "python": {
     "delete_cmd_postfix": "",
     "delete_cmd_prefix": "del ",
     "library": "var_list.py",
     "varRefreshCmd": "print(var_dic_list())"
    },
    "r": {
     "delete_cmd_postfix": ") ",
     "delete_cmd_prefix": "rm(",
     "library": "var_list.r",
     "varRefreshCmd": "cat(var_dic_list()) "
    }
   },
   "types_to_exclude": [
    "module",
    "function",
    "builtin_function_or_method",
    "instance",
    "_Feature"
   ],
   "window_display": false
  }
 },
 "nbformat": 4,
 "nbformat_minor": 5
}
