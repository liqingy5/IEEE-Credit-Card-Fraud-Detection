{
 "cells": [
  {
   "cell_type": "code",
   "execution_count": 26,
   "id": "279593de",
   "metadata": {},
   "outputs": [],
   "source": [
    "from sklearn.model_selection import train_test_split\n",
    "import xgboost as xgb\n",
    "import os\n",
    "import pandas as pd\n",
    "import metrics"
   ]
  },
  {
   "cell_type": "code",
   "execution_count": 10,
   "id": "dccaddf5",
   "metadata": {},
   "outputs": [],
   "source": [
    "__filename__ = 'XGboost.model'\n",
    "\n",
    "with open('.env') as f:\n",
    "    _data_pth_ = f.readline().strip()\n",
    "    _data_pth_ = os.path.expanduser(_data_pth_)"
   ]
  },
  {
   "cell_type": "markdown",
   "id": "e06215c2",
   "metadata": {},
   "source": [
    "### load data"
   ]
  },
  {
   "cell_type": "code",
   "execution_count": 13,
   "id": "dc674e75",
   "metadata": {},
   "outputs": [],
   "source": [
    "data = pd.read_csv(f'{_data_pth_}/processed/train_transaction.csv', index_col=0)\n",
    "y, X = data['isFraud'], data.drop(columns=['isFraud'])\n",
    "X_train, X_test, y_train, y_test = train_test_split(X, y, test_size=0.33)"
   ]
  },
  {
   "cell_type": "markdown",
   "id": "9c9d279d",
   "metadata": {},
   "source": [
    "### configure"
   ]
  },
  {
   "cell_type": "code",
   "execution_count": 20,
   "id": "a5abadc8",
   "metadata": {},
   "outputs": [],
   "source": [
    "xgb.set_config(verbosity=2)"
   ]
  },
  {
   "cell_type": "markdown",
   "id": "77703ce8",
   "metadata": {},
   "source": [
    "### train\n"
   ]
  },
  {
   "cell_type": "code",
   "execution_count": 22,
   "id": "faeda819",
   "metadata": {},
   "outputs": [
    {
     "name": "stdout",
     "output_type": "stream",
     "text": [
      "[20:12:14] INFO: ../src/tree/updater_prune.cc:101: tree pruning end, 3728 extra nodes, 0 pruned nodes, max_depth=35\n",
      "[20:12:14] INFO: ../src/tree/updater_prune.cc:101: tree pruning end, 3728 extra nodes, 0 pruned nodes, max_depth=35\n",
      "[20:12:14] INFO: ../src/tree/updater_prune.cc:101: tree pruning end, 3728 extra nodes, 0 pruned nodes, max_depth=35\n",
      "[20:12:14] INFO: ../src/tree/updater_prune.cc:101: tree pruning end, 3728 extra nodes, 0 pruned nodes, max_depth=35\n",
      "[20:12:14] INFO: ../src/tree/updater_prune.cc:101: tree pruning end, 3728 extra nodes, 0 pruned nodes, max_depth=35\n",
      "[20:12:26] INFO: ../src/tree/updater_prune.cc:101: tree pruning end, 4536 extra nodes, 0 pruned nodes, max_depth=47\n",
      "[20:12:26] INFO: ../src/tree/updater_prune.cc:101: tree pruning end, 4536 extra nodes, 0 pruned nodes, max_depth=47\n",
      "[20:12:26] INFO: ../src/tree/updater_prune.cc:101: tree pruning end, 4536 extra nodes, 0 pruned nodes, max_depth=47\n",
      "[20:12:26] INFO: ../src/tree/updater_prune.cc:101: tree pruning end, 4536 extra nodes, 0 pruned nodes, max_depth=47\n",
      "[20:12:26] INFO: ../src/tree/updater_prune.cc:101: tree pruning end, 4536 extra nodes, 0 pruned nodes, max_depth=47\n",
      "[20:12:39] INFO: ../src/tree/updater_prune.cc:101: tree pruning end, 5546 extra nodes, 0 pruned nodes, max_depth=48\n",
      "[20:12:39] INFO: ../src/tree/updater_prune.cc:101: tree pruning end, 5546 extra nodes, 0 pruned nodes, max_depth=48\n",
      "[20:12:39] INFO: ../src/tree/updater_prune.cc:101: tree pruning end, 5546 extra nodes, 0 pruned nodes, max_depth=48\n",
      "[20:12:39] INFO: ../src/tree/updater_prune.cc:101: tree pruning end, 5546 extra nodes, 0 pruned nodes, max_depth=48\n",
      "[20:12:39] INFO: ../src/tree/updater_prune.cc:101: tree pruning end, 5546 extra nodes, 0 pruned nodes, max_depth=48\n",
      "[20:12:53] INFO: ../src/tree/updater_prune.cc:101: tree pruning end, 6028 extra nodes, 0 pruned nodes, max_depth=49\n",
      "[20:12:53] INFO: ../src/tree/updater_prune.cc:101: tree pruning end, 6028 extra nodes, 0 pruned nodes, max_depth=49\n",
      "[20:12:53] INFO: ../src/tree/updater_prune.cc:101: tree pruning end, 6028 extra nodes, 0 pruned nodes, max_depth=49\n",
      "[20:12:53] INFO: ../src/tree/updater_prune.cc:101: tree pruning end, 6028 extra nodes, 0 pruned nodes, max_depth=49\n",
      "[20:12:53] INFO: ../src/tree/updater_prune.cc:101: tree pruning end, 6028 extra nodes, 0 pruned nodes, max_depth=49\n",
      "[20:13:05] INFO: ../src/tree/updater_prune.cc:101: tree pruning end, 6156 extra nodes, 0 pruned nodes, max_depth=46\n",
      "[20:13:05] INFO: ../src/tree/updater_prune.cc:101: tree pruning end, 6156 extra nodes, 0 pruned nodes, max_depth=46\n",
      "[20:13:05] INFO: ../src/tree/updater_prune.cc:101: tree pruning end, 6156 extra nodes, 0 pruned nodes, max_depth=46\n",
      "[20:13:05] INFO: ../src/tree/updater_prune.cc:101: tree pruning end, 6156 extra nodes, 0 pruned nodes, max_depth=46\n",
      "[20:13:05] INFO: ../src/tree/updater_prune.cc:101: tree pruning end, 6156 extra nodes, 0 pruned nodes, max_depth=46\n",
      "[20:13:16] INFO: ../src/tree/updater_prune.cc:101: tree pruning end, 6564 extra nodes, 0 pruned nodes, max_depth=38\n",
      "[20:13:16] INFO: ../src/tree/updater_prune.cc:101: tree pruning end, 6564 extra nodes, 0 pruned nodes, max_depth=38\n",
      "[20:13:16] INFO: ../src/tree/updater_prune.cc:101: tree pruning end, 6564 extra nodes, 0 pruned nodes, max_depth=38\n",
      "[20:13:16] INFO: ../src/tree/updater_prune.cc:101: tree pruning end, 6564 extra nodes, 0 pruned nodes, max_depth=38\n",
      "[20:13:16] INFO: ../src/tree/updater_prune.cc:101: tree pruning end, 6564 extra nodes, 0 pruned nodes, max_depth=38\n",
      "[20:13:29] INFO: ../src/tree/updater_prune.cc:101: tree pruning end, 6778 extra nodes, 0 pruned nodes, max_depth=46\n",
      "[20:13:29] INFO: ../src/tree/updater_prune.cc:101: tree pruning end, 6778 extra nodes, 0 pruned nodes, max_depth=46\n",
      "[20:13:29] INFO: ../src/tree/updater_prune.cc:101: tree pruning end, 6778 extra nodes, 0 pruned nodes, max_depth=46\n",
      "[20:13:29] INFO: ../src/tree/updater_prune.cc:101: tree pruning end, 6778 extra nodes, 0 pruned nodes, max_depth=46\n",
      "[20:13:29] INFO: ../src/tree/updater_prune.cc:101: tree pruning end, 6778 extra nodes, 0 pruned nodes, max_depth=46\n",
      "[20:13:43] INFO: ../src/tree/updater_prune.cc:101: tree pruning end, 6870 extra nodes, 0 pruned nodes, max_depth=49\n",
      "[20:13:43] INFO: ../src/tree/updater_prune.cc:101: tree pruning end, 6870 extra nodes, 0 pruned nodes, max_depth=49\n",
      "[20:13:43] INFO: ../src/tree/updater_prune.cc:101: tree pruning end, 6870 extra nodes, 0 pruned nodes, max_depth=49\n",
      "[20:13:43] INFO: ../src/tree/updater_prune.cc:101: tree pruning end, 6870 extra nodes, 0 pruned nodes, max_depth=49\n",
      "[20:13:43] INFO: ../src/tree/updater_prune.cc:101: tree pruning end, 6870 extra nodes, 0 pruned nodes, max_depth=49\n",
      "[20:13:54] INFO: ../src/tree/updater_prune.cc:101: tree pruning end, 6606 extra nodes, 0 pruned nodes, max_depth=41\n",
      "[20:13:54] INFO: ../src/tree/updater_prune.cc:101: tree pruning end, 6606 extra nodes, 0 pruned nodes, max_depth=41\n",
      "[20:13:54] INFO: ../src/tree/updater_prune.cc:101: tree pruning end, 6606 extra nodes, 0 pruned nodes, max_depth=41\n",
      "[20:13:54] INFO: ../src/tree/updater_prune.cc:101: tree pruning end, 6606 extra nodes, 0 pruned nodes, max_depth=41\n",
      "[20:13:54] INFO: ../src/tree/updater_prune.cc:101: tree pruning end, 6606 extra nodes, 0 pruned nodes, max_depth=41\n",
      "[20:14:05] INFO: ../src/tree/updater_prune.cc:101: tree pruning end, 6638 extra nodes, 0 pruned nodes, max_depth=40\n",
      "[20:14:05] INFO: ../src/tree/updater_prune.cc:101: tree pruning end, 6638 extra nodes, 0 pruned nodes, max_depth=40\n",
      "[20:14:05] INFO: ../src/tree/updater_prune.cc:101: tree pruning end, 6638 extra nodes, 0 pruned nodes, max_depth=40\n",
      "[20:14:05] INFO: ../src/tree/updater_prune.cc:101: tree pruning end, 6638 extra nodes, 0 pruned nodes, max_depth=40\n",
      "[20:14:05] INFO: ../src/tree/updater_prune.cc:101: tree pruning end, 6638 extra nodes, 0 pruned nodes, max_depth=40\n"
     ]
    }
   ],
   "source": [
    "dtrain = xgb.DMatrix(data=X_train, label=y_train)\n",
    "dtest = xgb.DMatrix(data=X_test, label=y_test)\n",
    "booster = xgb.train({\n",
    "    'objective': 'binary:logistic', \n",
    "    'eval_metric': ['auc', 'ams@0'],\n",
    "    'max_depth': 50,\n",
    "    'num_parallel_tree': 5,\n",
    "}, dtrain=dtrain)"
   ]
  },
  {
   "cell_type": "markdown",
   "id": "80f67116",
   "metadata": {},
   "source": [
    "### test"
   ]
  },
  {
   "cell_type": "code",
   "execution_count": 41,
   "id": "abe8d5a3",
   "metadata": {},
   "outputs": [
    {
     "name": "stdout",
     "output_type": "stream",
     "text": [
      "Test data\n",
      "[[3645, 187717], [332, 3185]]\n",
      "Misclassification error =  3517\n",
      "SENS(recall)  =  0.5336749633967789\n",
      "SPEC   =  0.9982345027094002\n",
      "PPV(Precision)   =  0.9165199899421674\n",
      "NPV   =  0.9833160469769829\n"
     ]
    },
    {
     "data": {
      "image/png": "[encoded data removed]",
      "text/plain": [
       "<Figure size 432x288 with 1 Axes>"
      ]
     },
     "metadata": {
      "needs_background": "light"
     },
     "output_type": "display_data"
    },
    {
     "data": {
      "image/png": "[encoded data removed]",
      "text/plain": [
       "<Figure size 432x288 with 1 Axes>"
      ]
     },
     "metadata": {
      "needs_background": "light"
     },
     "output_type": "display_data"
    }
   ],
   "source": [
    "import matplotlib.pyplot as plt\n",
    "\n",
    "from sklearn.metrics import classification_report, roc_auc_score, roc_curve, confusion_matrix\n",
    "from sklearn.metrics import precision_recall_curve\n",
    "\n",
    "### Roc curve and PR curve\n",
    "def roc_pr_curve(y_test, probs_predict):\n",
    "    # Draw the ROC curve\n",
    "    plt.figure(1)\n",
    "    # ROC curve components\n",
    "    fpr, tpr, thresholdsROC = roc_curve(y_test, probs_predict)\n",
    "    #plot\n",
    "    plt.plot(fpr,tpr)\n",
    "    plt.title(\"ROC curve\")\n",
    "    plt.xlabel(\"1-SPEC\")\n",
    "    plt.ylabel(\"SENS\")\n",
    "    plt.show\n",
    "    \n",
    "    # Draw the PR curve\n",
    "    plt.figure(2)\n",
    "    # Components of the Precision recall curvey\n",
    "    precision, recall, thresholdsPR = precision_recall_curve(y_test, probs_predict)\n",
    "    # plot\n",
    "    plt.plot(recall,precision)\n",
    "    plt.title(\"PR curve\")\n",
    "    plt.xlabel(\"SENS (Recall)\")\n",
    "    plt.ylabel(\"PPV (Precision)\")\n",
    "    plt.show\n",
    "    \n",
    "\n",
    "y_pred_probs = booster.predict(dtest)\n",
    "roc_pr_curve(y_test, y_pred_probs)\n",
    "y_pred_probs[y_pred_probs >= 0.5] = 1\n",
    "y_pred_probs[y_pred_probs < 0.5] = 0\n",
    "metrics.conf_matrix(y_test, y_pred_probs)\n"
   ]
  },
  {
   "cell_type": "code",
   "execution_count": 39,
   "id": "afbfc1c3",
   "metadata": {},
   "outputs": [
    {
     "data": {
      "text/plain": [
       "numpy.ndarray"
      ]
     },
     "execution_count": 39,
     "metadata": {},
     "output_type": "execute_result"
    }
   ],
   "source": [
    "type(y_pred_probs)"
   ]
  },
  {
   "cell_type": "code",
   "execution_count": null,
   "id": "089e9a16",
   "metadata": {},
   "outputs": [],
   "source": []
  }
 ],
 "metadata": {
  "kernelspec": {
   "display_name": "Python 3",
   "language": "python",
   "name": "python3"
  },
  "language_info": {
   "codemirror_mode": {
    "name": "ipython",
    "version": 3
   },
   "file_extension": ".py",
   "mimetype": "text/x-python",
   "name": "python",
   "nbconvert_exporter": "python",
   "pygments_lexer": "ipython3",
   "version": "3.7.6"
  },
  "varInspector": {
   "cols": {
    "lenName": 16,
    "lenType": 16,
    "lenVar": 40
   },
   "kernels_config": {
    "python": {
     "delete_cmd_postfix": "",
     "delete_cmd_prefix": "del ",
     "library": "var_list.py",
     "varRefreshCmd": "print(var_dic_list())"
    },
    "r": {
     "delete_cmd_postfix": ") ",
     "delete_cmd_prefix": "rm(",
     "library": "var_list.r",
     "varRefreshCmd": "cat(var_dic_list()) "
    }
   },
   "types_to_exclude": [
    "module",
    "function",
    "builtin_function_or_method",
    "instance",
    "_Feature"
   ],
   "window_display": false
  }
 },
 "nbformat": 4,
 "nbformat_minor": 5
}
