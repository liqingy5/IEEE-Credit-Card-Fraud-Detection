{
 "cells": [
  {
   "cell_type": "code",
   "execution_count": 1,
   "id": "0b758735",
   "metadata": {},
   "outputs": [],
   "source": [
    "import os\n",
    "import pandas as pd\n",
    "import numpy as np\n",
    "import matplotlib.pyplot as plt\n",
    "from sklearn.model_selection import train_test_split\n",
    "from sklearn.linear_model import LogisticRegression as LR\n",
    "from sklearn.metrics import classification_report, roc_auc_score, roc_curve, confusion_matrix\n",
    "from sklearn.metrics import precision_recall_curve\n",
    "import pickle\n",
    "import metrics\n",
    "import Evaluation as eva\n",
    "\n",
    "__filename__ = 'LR.model'\n",
    "\n",
    "with open('.env') as f:\n",
    "    _data_pth_ = f.readline().strip()\n",
    "    _data_pth_ = os.path.expanduser(_data_pth_)"
   ]
  },
  {
   "cell_type": "markdown",
   "id": "757d9783",
   "metadata": {},
   "source": [
    "### load data"
   ]
  },
  {
   "cell_type": "code",
   "execution_count": null,
   "id": "b5001ccd",
   "metadata": {},
   "outputs": [],
   "source": [
    "data = pd.read_csv(f'{_data_pth_}/processed/train_transaction.csv', index_col=0)\n",
    "y, X = data['isFraud'], data.drop(columns=['isFraud'])\n",
    "X_train, X_test, y_train, y_test = train_test_split(X, y, test_size=0.33)"
   ]
  },
  {
   "cell_type": "markdown",
   "id": "fbbe7389",
   "metadata": {},
   "source": [
    "### Regression"
   ]
  },
  {
   "cell_type": "code",
   "execution_count": null,
   "id": "4ee0bea3",
   "metadata": {},
   "outputs": [],
   "source": [
    "_lr = LR(penalty='l1', solver='saga') # use LASSO to filter features \n",
    "model = _lr.fit(X_train, y_train)"
   ]
  },
  {
   "cell_type": "markdown",
   "id": "32c47ac1",
   "metadata": {},
   "source": [
    "## Export model"
   ]
  },
  {
   "cell_type": "code",
   "execution_count": null,
   "id": "41add201",
   "metadata": {},
   "outputs": [],
   "source": [
    "# save the model to disk\n",
    "pickle.dump(model, open(f'../models/{__filename__}', 'wb'))"
   ]
  },
  {
   "cell_type": "markdown",
   "id": "16f4853b",
   "metadata": {},
   "source": [
    "## Evaluation"
   ]
  },
  {
   "cell_type": "code",
   "execution_count": 2,
   "id": "4c65eec3",
   "metadata": {},
   "outputs": [
    {
     "name": "stdout",
     "output_type": "stream",
     "text": [
      "0.9722742448712408\n",
      "0.9719620892964352\n",
      "Test data\n",
      "[[1807, 187608], [392, 5072]]\n",
      "Misclassification error =  5464\n",
      "SENS(recall)  =  0.2626835295827882\n",
      "SPEC   =  0.9979148936170212\n",
      "PPV(Precision)   =  0.8217371532514779\n",
      "NPV   =  0.973676562175628\n",
      "F1-SCORE =  0.3981053095395461\n"
     ]
    },
    {
     "data": {
      "image/png": "[encoded data removed]",
      "text/plain": [
       "<Figure size 432x288 with 1 Axes>"
      ]
     },
     "metadata": {
      "needs_background": "light"
     },
     "output_type": "display_data"
    },
    {
     "data": {
      "image/png": "[encoded data removed]",
      "text/plain": [
       "<Figure size 432x288 with 1 Axes>"
      ]
     },
     "metadata": {
      "needs_background": "light"
     },
     "output_type": "display_data"
    }
   ],
   "source": [
    "eva.evaluate(\"LR\")"
   ]
  },
  {
   "cell_type": "markdown",
   "id": "7caea789",
   "metadata": {},
   "source": [
    "### dumb classifier test"
   ]
  },
  {
   "cell_type": "code",
   "execution_count": null,
   "id": "0fba497b",
   "metadata": {},
   "outputs": [],
   "source": [
    "y, X = data['isFraud'], data.drop(columns=['isFraud'])\n",
    "y[5:10] = 1\n",
    "model = _lr.fit(X[:10], y[:10])\n",
    "sc_dumb = model.score(X_test, y_test)\n",
    "print(sc_dumb)"
   ]
  },
  {
   "cell_type": "code",
   "execution_count": null,
   "id": "e51a2b41",
   "metadata": {},
   "outputs": [],
   "source": []
  },
  {
   "cell_type": "code",
   "execution_count": null,
   "id": "454dc30a",
   "metadata": {},
   "outputs": [],
   "source": []
  },
  {
   "cell_type": "code",
   "execution_count": null,
   "id": "72ab876a",
   "metadata": {},
   "outputs": [],
   "source": []
  }
 ],
 "metadata": {
  "kernelspec": {
   "display_name": "Python 3 (ipykernel)",
   "language": "python",
   "name": "python3"
  },
  "language_info": {
   "codemirror_mode": {
    "name": "ipython",
    "version": 3
   },
   "file_extension": ".py",
   "mimetype": "text/x-python",
   "name": "python",
   "nbconvert_exporter": "python",
   "pygments_lexer": "ipython3",
   "version": "3.9.7"
  },
  "varInspector": {
   "cols": {
    "lenName": 16,
    "lenType": 16,
    "lenVar": 40
   },
   "kernels_config": {
    "python": {
     "delete_cmd_postfix": "",
     "delete_cmd_prefix": "del ",
     "library": "var_list.py",
     "varRefreshCmd": "print(var_dic_list())"
    },
    "r": {
     "delete_cmd_postfix": ") ",
     "delete_cmd_prefix": "rm(",
     "library": "var_list.r",
     "varRefreshCmd": "cat(var_dic_list()) "
    }
   },
   "types_to_exclude": [
    "module",
    "function",
    "builtin_function_or_method",
    "instance",
    "_Feature"
   ],
   "window_display": false
  }
 },
 "nbformat": 4,
 "nbformat_minor": 5
}
