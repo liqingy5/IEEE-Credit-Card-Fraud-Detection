{
 "cells": [
  {
   "cell_type": "code",
   "execution_count": 23,
   "id": "0b758735",
   "metadata": {},
   "outputs": [],
   "source": [
    "import os\n",
    "import pandas as pd\n",
    "import numpy as np\n",
    "import matplotlib.pyplot as plt\n",
    "from sklearn.model_selection import train_test_split\n",
    "from sklearn.linear_model import LogisticRegression as LR\n",
    "from sklearn.metrics import classification_report, roc_auc_score, roc_curve, confusion_matrix\n",
    "from sklearn.metrics import precision_recall_curve\n",
    "\n",
    "with open('.env') as f:\n",
    "    _data_pth_ = f.readline().strip()\n",
    "    _data_pth_ = os.path.expanduser(_data_pth_)"
   ]
  },
  {
   "cell_type": "markdown",
   "id": "757d9783",
   "metadata": {},
   "source": [
    "### load data"
   ]
  },
  {
   "cell_type": "code",
   "execution_count": 17,
   "id": "b5001ccd",
   "metadata": {},
   "outputs": [],
   "source": [
    "data = pd.read_csv(f'{_data_pth_}/processed/train_transaction.csv', index_col=0)"
   ]
  },
  {
   "cell_type": "markdown",
   "id": "fbbe7389",
   "metadata": {},
   "source": [
    "### Regression"
   ]
  },
  {
   "cell_type": "code",
   "execution_count": 18,
   "id": "672b00c6",
   "metadata": {
    "scrolled": true
   },
   "outputs": [
    {
     "name": "stderr",
     "output_type": "stream",
     "text": [
      "D:\\anaconda\\lib\\site-packages\\sklearn\\linear_model\\_sag.py:328: ConvergenceWarning: The max_iter was reached which means the coef_ did not converge\n",
      "  warnings.warn(\"The max_iter was reached which means \"\n"
     ]
    }
   ],
   "source": [
    "y, X = data['isFraud'], data.drop(columns=['isFraud'])\n",
    "X_train, X_test, y_train, y_test = train_test_split(X, y, test_size=0.33)\n",
    "_lr = LR(penalty='l1', solver='saga') # use LASSO to filter features \n",
    "model = _lr.fit(X_train, y_train)"
   ]
  },
  {
   "cell_type": "markdown",
   "id": "8bcd5255",
   "metadata": {},
   "source": [
    "### Test"
   ]
  },
  {
   "cell_type": "code",
   "execution_count": 19,
   "id": "49bd4fa5",
   "metadata": {},
   "outputs": [
    {
     "name": "stdout",
     "output_type": "stream",
     "text": [
      "0.9720998531571219\n",
      "0.9721673448652753\n"
     ]
    }
   ],
   "source": [
    "sc_train = model.score(X_train, y_train)\n",
    "print(sc_train)\n",
    "sc_test = model.score(X_test, y_test)\n",
    "y_pred_test = model.predict(X_test)\n",
    "probs_LR=model.predict_proba(X_test)\n",
    "print(sc_test)"
   ]
  },
  {
   "cell_type": "markdown",
   "id": "7caea789",
   "metadata": {},
   "source": [
    "### dumb classifier test"
   ]
  },
  {
   "cell_type": "code",
   "execution_count": 20,
   "id": "0fba497b",
   "metadata": {},
   "outputs": [
    {
     "name": "stdout",
     "output_type": "stream",
     "text": [
      "0.30382955577563514\n"
     ]
    },
    {
     "name": "stderr",
     "output_type": "stream",
     "text": [
      "C:\\Users\\LIVELO~1\\AppData\\Local\\Temp/ipykernel_23296/3010541318.py:2: SettingWithCopyWarning: \n",
      "A value is trying to be set on a copy of a slice from a DataFrame\n",
      "\n",
      "See the caveats in the documentation: https://pandas.pydata.org/pandas-docs/stable/user_guide/indexing.html#returning-a-view-versus-a-copy\n",
      "  y[5:10] = 1\n",
      "D:\\anaconda\\lib\\site-packages\\sklearn\\linear_model\\_sag.py:328: ConvergenceWarning: The max_iter was reached which means the coef_ did not converge\n",
      "  warnings.warn(\"The max_iter was reached which means \"\n"
     ]
    }
   ],
   "source": [
    "y, X = data['isFraud'], data.drop(columns=['isFraud'])\n",
    "y[5:10] = 1\n",
    "model = _lr.fit(X[:10], y[:10])\n",
    "sc_dumb = model.score(X_test, y_test)\n",
    "print(sc_dumb)"
   ]
  },
  {
   "cell_type": "markdown",
   "id": "721bf1ae",
   "metadata": {},
   "source": [
    "# Metrics\n",
    "## Confusion matrix"
   ]
  },
  {
   "cell_type": "code",
   "execution_count": 30,
   "id": "d880fbcc",
   "metadata": {},
   "outputs": [
    {
     "name": "stdout",
     "output_type": "stream",
     "text": [
      "Test data\n",
      "[[1827, 187628], [384, 5040]]\n",
      "Misclassification error =  5424\n",
      "SENS(recall)  =  0.26605504587155965\n",
      "SPEC   =  0.9979575771759249\n",
      "PPV(Precision)   =  0.8263229308005428\n",
      "NPV   =  0.9738410114808894\n"
     ]
    }
   ],
   "source": [
    "# extract components of the confusion matrix\n",
    "tn, fp, fn, tp = confusion_matrix(y_test, y_pred_test).ravel()\n",
    "print(\"Test data\")\n",
    "print([[tp,tn],[fp,fn]])\n",
    "print(\"Misclassification error = \",fp+fn)   \n",
    "print(\"SENS(recall)  = \",tp/(tp+fn)) \n",
    "print(\"SPEC   = \",tn/(tn+fp)) \n",
    "print(\"PPV(Precision)   = \",tp/(tp+fp)) \n",
    "print(\"NPV   = \",tn/(tn+fn)) "
   ]
  },
  {
   "cell_type": "markdown",
   "id": "65f8dfbf",
   "metadata": {},
   "source": [
    "## Roc curve"
   ]
  },
  {
   "cell_type": "code",
   "execution_count": 31,
   "id": "e51a2b41",
   "metadata": {},
   "outputs": [
    {
     "data": {
      "text/plain": [
       "<function matplotlib.pyplot.show(close=None, block=None)>"
      ]
     },
     "execution_count": 31,
     "metadata": {},
     "output_type": "execute_result"
    },
    {
     "data": {
      "image/png": "[encoded data removed]",
      "text/plain": [
       "<Figure size 432x288 with 1 Axes>"
      ]
     },
     "metadata": {
      "needs_background": "light"
     },
     "output_type": "display_data"
    }
   ],
   "source": [
    "# Draw the ROC curve\n",
    "plt.figure(1)\n",
    "# ROC curve components\n",
    "fpr, tpr, thresholdsROC = roc_curve(y_test, probs_LR[:,1])\n",
    "#plot\n",
    "plt.plot(fpr,tpr)\n",
    "plt.title(\"ROC curve\")\n",
    "plt.xlabel(\"1-SPEC\")\n",
    "plt.ylabel(\"SENS\")\n",
    "plt.show"
   ]
  },
  {
   "cell_type": "markdown",
   "id": "1fd2da9f",
   "metadata": {},
   "source": [
    "## PR curve"
   ]
  },
  {
   "cell_type": "code",
   "execution_count": 32,
   "id": "454dc30a",
   "metadata": {},
   "outputs": [
    {
     "data": {
      "text/plain": [
       "<function matplotlib.pyplot.show(close=None, block=None)>"
      ]
     },
     "execution_count": 32,
     "metadata": {},
     "output_type": "execute_result"
    },
    {
     "data": {
      "image/png": "[encoded data removed]",
      "text/plain": [
       "<Figure size 432x288 with 1 Axes>"
      ]
     },
     "metadata": {
      "needs_background": "light"
     },
     "output_type": "display_data"
    }
   ],
   "source": [
    "# Draw the PR curve\n",
    "plt.figure(2)\n",
    "# Components of the Precision recall curvey\n",
    "precision, recall, thresholdsPR = precision_recall_curve(y_test, probs_LR[:,1])\n",
    "# plot\n",
    "plt.plot(recall,precision)\n",
    "plt.title(\"PR curve\")\n",
    "plt.xlabel(\"SENS (Recall)\")\n",
    "plt.ylabel(\"PPV (Precision)\")\n",
    "plt.show"
   ]
  },
  {
   "cell_type": "code",
   "execution_count": null,
   "id": "41add201",
   "metadata": {},
   "outputs": [],
   "source": []
  }
 ],
 "metadata": {
  "kernelspec": {
   "display_name": "Python 3 (ipykernel)",
   "language": "python",
   "name": "python3"
  },
  "language_info": {
   "codemirror_mode": {
    "name": "ipython",
    "version": 3
   },
   "file_extension": ".py",
   "mimetype": "text/x-python",
   "name": "python",
   "nbconvert_exporter": "python",
   "pygments_lexer": "ipython3",
   "version": "3.9.7"
  },
  "varInspector": {
   "cols": {
    "lenName": 16,
    "lenType": 16,
    "lenVar": 40
   },
   "kernels_config": {
    "python": {
     "delete_cmd_postfix": "",
     "delete_cmd_prefix": "del ",
     "library": "var_list.py",
     "varRefreshCmd": "print(var_dic_list())"
    },
    "r": {
     "delete_cmd_postfix": ") ",
     "delete_cmd_prefix": "rm(",
     "library": "var_list.r",
     "varRefreshCmd": "cat(var_dic_list()) "
    }
   },
   "types_to_exclude": [
    "module",
    "function",
    "builtin_function_or_method",
    "instance",
    "_Feature"
   ],
   "window_display": false
  }
 },
 "nbformat": 4,
 "nbformat_minor": 5
}
