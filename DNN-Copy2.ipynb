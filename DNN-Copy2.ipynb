{
 "cells": [
  {
   "cell_type": "code",
   "execution_count": null,
   "id": "a6c318b7",
   "metadata": {},
   "outputs": [],
   "source": [
    "import torch\n",
    "import numpy as np\n",
    "import pandas as pd \n",
    "import sklearn\n",
    "\n",
    "from torch import nn\n",
    "from torch.utils.data import \\\n",
    "    Dataset as DS, \\\n",
    "    DataLoader as DL\n",
    "from pandas import read_csv\n",
    "from ipdb import set_trace\n",
    "\n",
    "from AlexNet import AlexNet\n",
    "\n",
    "import utils\n"
   ]
  },
  {
   "cell_type": "markdown",
   "id": "dafa7e05",
   "metadata": {},
   "source": [
    "### load data"
   ]
  },
  {
   "cell_type": "code",
   "execution_count": null,
   "id": "1e6d1de2",
   "metadata": {},
   "outputs": [],
   "source": [
    "data_type = \"undersampled\"\n",
    "X_train, X_test, Y_train, Y_test = utils.load_standard_data(data_type=data_type)"
   ]
  },
  {
   "cell_type": "markdown",
   "id": "c8a0c417",
   "metadata": {},
   "source": [
    "### dataset"
   ]
  },
  {
   "cell_type": "code",
   "execution_count": null,
   "id": "c49e6fa3",
   "metadata": {},
   "outputs": [],
   "source": [
    "class Fraud_Dataset(DS):\n",
    "    def __init__(self, X: pd.DataFrame, y: pd.DataFrame):\n",
    "        self.X = X.values.astype(np.float32)\n",
    "        self.Y = y.values.astype(np.float32)\n",
    "    \n",
    "    def __len__(self):\n",
    "        return len(self.Y)\n",
    "    \n",
    "    def __getitem__(self, idx):\n",
    "        return self.X[idx], self.Y[idx]\n"
   ]
  },
  {
   "cell_type": "markdown",
   "id": "fbb7bdc0",
   "metadata": {},
   "source": [
    "### training configuration"
   ]
  },
  {
   "cell_type": "code",
   "execution_count": null,
   "id": "12b75b61",
   "metadata": {},
   "outputs": [],
   "source": [
    "dropout = 0.5\n",
    "lr = 0.0002\n",
    "batch_size = 100\n",
    "num_classes = 1\n",
    "epochs = 100\n",
    "cuda_ind = 2"
   ]
  },
  {
   "cell_type": "markdown",
   "id": "b74a211b",
   "metadata": {},
   "source": [
    "### training"
   ]
  },
  {
   "cell_type": "code",
   "execution_count": null,
   "id": "c27846f8",
   "metadata": {},
   "outputs": [],
   "source": [
    "train_ds = Fraud_Dataset(X_train, Y_train)\n",
    "train_dl = DL(train_ds, batch_size=batch_size, shuffle=True)\n",
    "\n",
    "AN = AlexNet(num_classes=num_classes, dropout=dropout)\n",
    "AN_opt = torch.optim.Adam(AN.parameters(), lr=lr)\n",
    "if torch.cuda.is_available():\n",
    "    AN.cuda(cuda_ind)\n",
    "    \n",
    "sigmoid = nn.Sigmoid() # final activation\n",
    "bce = nn.BCELoss() # binary cross-entropy \n",
    "\n",
    "    \n",
    "for e in range(epochs):\n",
    "    \n",
    "    # loss data\n",
    "    loss_df = pd.DataFrame({\"loss\": []})\n",
    "    \n",
    "    for i, (X, y) in enumerate(train_dl):\n",
    "\n",
    "        if torch.cuda.is_available():\n",
    "            X = X.cuda(cuda_ind)\n",
    "            y = y.cuda(cuda_ind)\n",
    "        X = X.unsqueeze(1) # add a channel dimension\n",
    "        \n",
    "        AN_opt.zero_grad()\n",
    "        \n",
    "        y_probs = AN(X)\n",
    "        loss = bce(sigmoid(y_probs), y)\n",
    "        loss.backward() \n",
    "        loss_df = loss_df.append({\"loss\": loss.item()}, ignore_index=True)\n",
    "        \n",
    "        AN_opt.step()\n",
    "    if e % 5 == 0:\n",
    "        torch.save(AN.state_dict(), f\"{utils._data_pth_}/models/AN_{data_type}_epochs_{e}.pth\")\n",
    "        loss_df.to_csv(f\"{utils._data_pth_}/models/AN_{data_type}_epochs_{e}_loss.csv\")\n"
   ]
  },
  {
   "cell_type": "code",
   "execution_count": null,
   "id": "e23ba0a3",
   "metadata": {},
   "outputs": [],
   "source": []
  }
 ],
 "metadata": {
  "kernelspec": {
   "display_name": "Python 3",
   "language": "python",
   "name": "python3"
  },
  "language_info": {
   "codemirror_mode": {
    "name": "ipython",
    "version": 3
   },
   "file_extension": ".py",
   "mimetype": "text/x-python",
   "name": "python",
   "nbconvert_exporter": "python",
   "pygments_lexer": "ipython3",
   "version": "3.7.6"
  },
  "varInspector": {
   "cols": {
    "lenName": 16,
    "lenType": 16,
    "lenVar": 40
   },
   "kernels_config": {
    "python": {
     "delete_cmd_postfix": "",
     "delete_cmd_prefix": "del ",
     "library": "var_list.py",
     "varRefreshCmd": "print(var_dic_list())"
    },
    "r": {
     "delete_cmd_postfix": ") ",
     "delete_cmd_prefix": "rm(",
     "library": "var_list.r",
     "varRefreshCmd": "cat(var_dic_list()) "
    }
   },
   "types_to_exclude": [
    "module",
    "function",
    "builtin_function_or_method",
    "instance",
    "_Feature"
   ],
   "window_display": false
  }
 },
 "nbformat": 4,
 "nbformat_minor": 5
}
